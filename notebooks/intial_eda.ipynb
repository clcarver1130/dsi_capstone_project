{
 "cells": [
  {
   "cell_type": "markdown",
   "metadata": {},
   "source": [
    "# Pre-Model EDA"
   ]
  },
  {
   "cell_type": "markdown",
   "metadata": {},
   "source": [
    "### Load in the data from s3"
   ]
  },
  {
   "cell_type": "code",
   "execution_count": 43,
   "metadata": {},
   "outputs": [],
   "source": [
    "# Import libraries\n",
    "import pandas as pd\n",
    "import numpy as np\n",
    "import matplotlib.pyplot as plt\n",
    "import seaborn as sns\n",
    "plt.style.use('seaborn-white')"
   ]
  },
  {
   "cell_type": "code",
   "execution_count": 2,
   "metadata": {},
   "outputs": [],
   "source": [
    "# Load in data: df\n",
    "df = pd.read_csv('https://s3.amazonaws.com/clcarverloans/data/df_cleaned.csv')"
   ]
  },
  {
   "cell_type": "code",
   "execution_count": 50,
   "metadata": {},
   "outputs": [
    {
     "data": {
      "text/html": [
       "<div>\n",
       "<style scoped>\n",
       "    .dataframe tbody tr th:only-of-type {\n",
       "        vertical-align: middle;\n",
       "    }\n",
       "\n",
       "    .dataframe tbody tr th {\n",
       "        vertical-align: top;\n",
       "    }\n",
       "\n",
       "    .dataframe thead th {\n",
       "        text-align: right;\n",
       "    }\n",
       "</style>\n",
       "<table border=\"1\" class=\"dataframe\">\n",
       "  <thead>\n",
       "    <tr style=\"text-align: right;\">\n",
       "      <th></th>\n",
       "      <th>Unnamed: 0</th>\n",
       "      <th>Id</th>\n",
       "      <th>Funded Date</th>\n",
       "      <th>Borrower_Genders</th>\n",
       "      <th>Country Code</th>\n",
       "      <th>Country</th>\n",
       "      <th>Town_Name</th>\n",
       "      <th>Loan Amount</th>\n",
       "      <th>Lender_Term</th>\n",
       "      <th>Repayment_Interval</th>\n",
       "      <th>Distribution_Model</th>\n",
       "      <th>Sector</th>\n",
       "      <th>Activity</th>\n",
       "      <th>Use</th>\n",
       "      <th>Delinquent</th>\n",
       "    </tr>\n",
       "  </thead>\n",
       "  <tbody>\n",
       "    <tr>\n",
       "      <th>0</th>\n",
       "      <td>0</td>\n",
       "      <td>155661</td>\n",
       "      <td>2010-01-04T14:29:24Z</td>\n",
       "      <td>female</td>\n",
       "      <td>PH</td>\n",
       "      <td>Philippines</td>\n",
       "      <td>Dipolog-Piñan, Zamboanga del Norte</td>\n",
       "      <td>1075</td>\n",
       "      <td>7.0</td>\n",
       "      <td>monthly</td>\n",
       "      <td>field_partner</td>\n",
       "      <td>Housing</td>\n",
       "      <td>Personal Housing Expenses</td>\n",
       "      <td>To purchase construction materials and labor f...</td>\n",
       "      <td>False</td>\n",
       "    </tr>\n",
       "    <tr>\n",
       "      <th>1</th>\n",
       "      <td>1</td>\n",
       "      <td>155674</td>\n",
       "      <td>2010-01-01T19:15:17Z</td>\n",
       "      <td>male</td>\n",
       "      <td>AF</td>\n",
       "      <td>Afghanistan</td>\n",
       "      <td>Kabul Afghanistan</td>\n",
       "      <td>1075</td>\n",
       "      <td>14.0</td>\n",
       "      <td>monthly</td>\n",
       "      <td>field_partner</td>\n",
       "      <td>Construction</td>\n",
       "      <td>Construction</td>\n",
       "      <td>to buy construction materials</td>\n",
       "      <td>False</td>\n",
       "    </tr>\n",
       "    <tr>\n",
       "      <th>2</th>\n",
       "      <td>2</td>\n",
       "      <td>155677</td>\n",
       "      <td>2010-01-02T00:21:08Z</td>\n",
       "      <td>male</td>\n",
       "      <td>AF</td>\n",
       "      <td>Afghanistan</td>\n",
       "      <td>Kabul Afghanistan</td>\n",
       "      <td>1075</td>\n",
       "      <td>14.0</td>\n",
       "      <td>monthly</td>\n",
       "      <td>field_partner</td>\n",
       "      <td>Construction</td>\n",
       "      <td>Construction</td>\n",
       "      <td>to purchase construction materials</td>\n",
       "      <td>False</td>\n",
       "    </tr>\n",
       "    <tr>\n",
       "      <th>3</th>\n",
       "      <td>3</td>\n",
       "      <td>155698</td>\n",
       "      <td>2010-01-01T17:31:27Z</td>\n",
       "      <td>group</td>\n",
       "      <td>AF</td>\n",
       "      <td>Afghanistan</td>\n",
       "      <td>Kabul Afghanistan</td>\n",
       "      <td>425</td>\n",
       "      <td>10.0</td>\n",
       "      <td>monthly</td>\n",
       "      <td>field_partner</td>\n",
       "      <td>Services</td>\n",
       "      <td>Services</td>\n",
       "      <td>to expand and resupply three small businesses</td>\n",
       "      <td>False</td>\n",
       "    </tr>\n",
       "    <tr>\n",
       "      <th>4</th>\n",
       "      <td>4</td>\n",
       "      <td>155710</td>\n",
       "      <td>2010-01-01T18:16:31Z</td>\n",
       "      <td>group</td>\n",
       "      <td>AF</td>\n",
       "      <td>Afghanistan</td>\n",
       "      <td>Kabul Afghanistan</td>\n",
       "      <td>850</td>\n",
       "      <td>12.0</td>\n",
       "      <td>monthly</td>\n",
       "      <td>field_partner</td>\n",
       "      <td>Services</td>\n",
       "      <td>Services</td>\n",
       "      <td>to expand four small businesses</td>\n",
       "      <td>False</td>\n",
       "    </tr>\n",
       "  </tbody>\n",
       "</table>\n",
       "</div>"
      ],
      "text/plain": [
       "   Unnamed: 0      Id           Funded Date Borrower_Genders Country Code  \\\n",
       "0           0  155661  2010-01-04T14:29:24Z           female           PH   \n",
       "1           1  155674  2010-01-01T19:15:17Z             male           AF   \n",
       "2           2  155677  2010-01-02T00:21:08Z             male           AF   \n",
       "3           3  155698  2010-01-01T17:31:27Z            group           AF   \n",
       "4           4  155710  2010-01-01T18:16:31Z            group           AF   \n",
       "\n",
       "       Country                           Town_Name  Loan Amount  Lender_Term  \\\n",
       "0  Philippines  Dipolog-Piñan, Zamboanga del Norte         1075          7.0   \n",
       "1  Afghanistan                   Kabul Afghanistan         1075         14.0   \n",
       "2  Afghanistan                   Kabul Afghanistan         1075         14.0   \n",
       "3  Afghanistan                   Kabul Afghanistan          425         10.0   \n",
       "4  Afghanistan                   Kabul Afghanistan          850         12.0   \n",
       "\n",
       "  Repayment_Interval Distribution_Model        Sector  \\\n",
       "0            monthly      field_partner       Housing   \n",
       "1            monthly      field_partner  Construction   \n",
       "2            monthly      field_partner  Construction   \n",
       "3            monthly      field_partner      Services   \n",
       "4            monthly      field_partner      Services   \n",
       "\n",
       "                    Activity  \\\n",
       "0  Personal Housing Expenses   \n",
       "1               Construction   \n",
       "2               Construction   \n",
       "3                   Services   \n",
       "4                   Services   \n",
       "\n",
       "                                                 Use  Delinquent  \n",
       "0  To purchase construction materials and labor f...       False  \n",
       "1                      to buy construction materials       False  \n",
       "2                 to purchase construction materials       False  \n",
       "3      to expand and resupply three small businesses       False  \n",
       "4                    to expand four small businesses       False  "
      ]
     },
     "execution_count": 50,
     "metadata": {},
     "output_type": "execute_result"
    }
   ],
   "source": [
    "df.head()"
   ]
  },
  {
   "cell_type": "markdown",
   "metadata": {},
   "source": [
    "### EDA"
   ]
  },
  {
   "cell_type": "code",
   "execution_count": 4,
   "metadata": {},
   "outputs": [],
   "source": [
    "# Create function to convert colors: rgb_colors\n",
    "def rgb_color(r,g,b):\n",
    "    r = r/255.\n",
    "    g = g/255.\n",
    "    b = b/255.\n",
    "    return(r,g,b)"
   ]
  },
  {
   "cell_type": "code",
   "execution_count": 5,
   "metadata": {},
   "outputs": [],
   "source": [
    "# Create colors:\n",
    "tableau_blue = rgb_color(31,119,180)\n",
    "tableau_grey = rgb_color(127,127,127)"
   ]
  },
  {
   "cell_type": "code",
   "execution_count": 49,
   "metadata": {
    "scrolled": true
   },
   "outputs": [
    {
     "data": {
      "image/png": "[encoded data removed]",
      "text/plain": [
       "<matplotlib.figure.Figure at 0x7fc5494ab3c8>"
      ]
     },
     "metadata": {},
     "output_type": "display_data"
    }
   ],
   "source": [
    "# Breakdown by Gender\n",
    "\n",
    "# Group and sort:\n",
    "gender_groups = df.groupby('Borrower_Genders')['Id'].count()\n",
    "groups_sorted = gender_groups.sort_values(ascending=False)\n",
    "female_pct = int(round((df.groupby('Borrower_Genders')['Id'].count()['female']/len(df))*100, 0))\n",
    "\n",
    "# Create plot\n",
    "ax = groups_sorted.plot(kind='bar')\n",
    "for bar in ax.patches:\n",
    "    bar.set_facecolor(color=rgb_color(127,127,127)) # Set all to grey\n",
    "ax.patches[0].set_facecolor(rgb_color(31,119,180)) # highlight first with blue\n",
    "ax.spines['right'].set_visible(False) \n",
    "ax.spines['top'].set_visible(False)\n",
    "ax.spines['bottom'].set_color(tableau_grey) \n",
    "ax.spines['left'].set_color(tableau_grey)\n",
    "ax.axes.get_yaxis().set_ticks([])\n",
    "plt.xlabel('')\n",
    "plt.margins(0.2)\n",
    "plt.text(0,48000, str(female_pct)+'%', horizontalalignment='center', color='w', size=14, weight='bold')\n",
    "plt.xticks(range(3), ['Female', 'Male', 'Group'], rotation='horizontal')\n",
    "plt.ylabel('Percent of Total Borrowers')\n",
    "plt.title('Borrower Gender by Percent of Total')\n",
    "plt.savefig('../pictures/borrowers_by_gender.png', dpi=600, transparent=True, bbox_inches='tight')\n",
    "plt.show()"
   ]
  },
  {
   "cell_type": "code",
   "execution_count": 7,
   "metadata": {},
   "outputs": [],
   "source": [
    "default_sector = sorted(df.groupby('Sector').sum()['Delinquent']/df.groupby('Sector').count()['Delinquent'], reverse=False)\n",
    "sector_list = (df.groupby('Sector').sum()['Delinquent']/df.groupby('Sector').count()['Delinquent']).index[np.argsort(default_sector)]\n",
    "default_by_sector = pd.DataFrame({'Sector': sector_list, 'Default_pct': default_sector})\n",
    "default_by_sector.set_index('Sector', inplace=True)"
   ]
  },
  {
   "cell_type": "code",
   "execution_count": 88,
   "metadata": {
    "scrolled": false
   },
   "outputs": [
    {
     "data": {
      "image/png": "[encoded data removed]",
      "text/plain": [
       "<matplotlib.figure.Figure at 0x7fc5491486d8>"
      ]
     },
     "metadata": {},
     "output_type": "display_data"
    }
   ],
   "source": [
    "ax = default_by_sector.plot(kind='barh', legend=False)\n",
    "plt.axvline(default_by_sector['Default_pct'].mean(), color='grey', linestyle='--')\n",
    "for bar in ax.patches:\n",
    "    bar.set_facecolor(color=rgb_color(127,127,127)) # Set all to grey\n",
    "for bar in range(-6,0): \n",
    "    ax.patches[bar].set_facecolor(rgb_color(31,119,180)) # highlight those above average with blue\n",
    "labels=[str(int(round(label*100)))+'%' for label in np.arange(0,0.08,0.01)]    \n",
    "plt.title('Loan Default Rates by Sector', loc='left')\n",
    "plt.ylabel('')\n",
    "plt.xlabel('Percent of Loans')\n",
    "plt.xticks(np.arange(0,0.08, 0.01), labels)\n",
    "ax.spines['right'].set_visible(False) \n",
    "ax.spines['top'].set_visible(False)\n",
    "ax.spines['bottom'].set_color(tableau_grey) \n",
    "ax.spines['left'].set_color(tableau_grey)\n",
    "plt.savefig('../pictures/defaults_by_sector.png', dpi=600, transparent=True, bbox_inches='tight', orientation='landscape')"
   ]
  },
  {
   "cell_type": "code",
   "execution_count": 110,
   "metadata": {},
   "outputs": [
    {
     "data": {
      "image/png": "[encoded data removed]",
      "text/plain": [
       "<matplotlib.figure.Figure at 0x7fc548d4af60>"
      ]
     },
     "metadata": {},
     "output_type": "display_data"
    }
   ],
   "source": [
    "ax = sns.boxplot(x='Loan Amount', data=df, showfliers=False, color=tableau_blue, saturation=1, linewidth=1, whis=1.5)\n",
    "ax.spines['right'].set_visible(False) \n",
    "ax.spines['top'].set_visible(False)\n",
    "ax.spines['bottom'].set_color(tableau_grey) \n",
    "ax.spines['left'].set_visible(False)\n",
    "plt.setp(ax.lines, color=tableau_grey)\n",
    "plt.title('Distribution of Loan Amounts')\n",
    "plt.savefig('../pictures/distribution_loan_amounts.png', dpi=600, transparent=True, bbox_inches='tight', orientation='landscape')\n",
    "plt.show()"
   ]
  },
  {
   "cell_type": "code",
   "execution_count": 138,
   "metadata": {},
   "outputs": [],
   "source": [
    "default_by_country = pd.DataFrame(df.groupby('Country').sum()['Delinquent']/df.groupby('Country').count()['Delinquent']).sort_values('Delinquent', ascending=False)\n",
    "worst_countries = default_by_country.iloc[:5]\n",
    "best_countries = default_by_country.iloc[-5:]"
   ]
  },
  {
   "cell_type": "code",
   "execution_count": 150,
   "metadata": {},
   "outputs": [
    {
     "data": {
      "image/png": "[encoded data removed]",
      "text/plain": [
       "<matplotlib.figure.Figure at 0x7fc547ff6320>"
      ]
     },
     "metadata": {},
     "output_type": "display_data"
    }
   ],
   "source": [
    "ax = worst_countries.plot(kind='bar', legend=False)\n",
    "plt.title('Countries with Worst Default Rates', loc='center')\n",
    "plt.margins(0.2)\n",
    "plt.xlabel('')\n",
    "plt.ylabel('Percent of Loans')\n",
    "plt.xticks(rotation=45)\n",
    "ax.spines['right'].set_visible(False) \n",
    "ax.spines['top'].set_visible(False)\n",
    "ax.spines['bottom'].set_color(tableau_grey) \n",
    "ax.spines['left'].set_color(tableau_grey)"
   ]
  }
 ],
 "metadata": {
  "kernelspec": {
   "display_name": "Python 3",
   "language": "python",
   "name": "python3"
  },
  "language_info": {
   "codemirror_mode": {
    "name": "ipython",
    "version": 3
   },
   "file_extension": ".py",
   "mimetype": "text/x-python",
   "name": "python",
   "nbconvert_exporter": "python",
   "pygments_lexer": "ipython3",
   "version": "3.6.4"
  }
 },
 "nbformat": 4,
 "nbformat_minor": 2
}
