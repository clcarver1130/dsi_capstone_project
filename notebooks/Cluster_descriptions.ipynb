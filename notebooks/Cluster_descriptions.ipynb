{
 "cells": [
  {
   "cell_type": "code",
   "execution_count": 1,
   "metadata": {},
   "outputs": [],
   "source": [
    "# Import libraries\n",
    "import pandas as pd\n",
    "import matplotlib.pyplot as plt\n",
    "import numpy as np"
   ]
  },
  {
   "cell_type": "code",
   "execution_count": 2,
   "metadata": {},
   "outputs": [],
   "source": [
    "# Load in data: df\n",
    "df = pd.read_csv('https://s3.amazonaws.com/clcarverloans/data/df_cleaned.csv')"
   ]
  },
  {
   "cell_type": "code",
   "execution_count": 3,
   "metadata": {},
   "outputs": [],
   "source": [
    "# Select loan 'Use' column: loan_use\n",
    "loan_use = df['Use'].dropna() # Drop the one missing 'Use' datapoint\n",
    "\n",
    "# Select loan label 'Delinquent' to compare after the cluster: labels\n",
    "labels = df['Delinquent']"
   ]
  },
  {
   "cell_type": "markdown",
   "metadata": {},
   "source": [
    "### Create TF-IDF Vectors of Loan Use"
   ]
  },
  {
   "cell_type": "code",
   "execution_count": 4,
   "metadata": {},
   "outputs": [],
   "source": [
    "from sklearn.feature_extraction.text import TfidfVectorizer"
   ]
  },
  {
   "cell_type": "code",
   "execution_count": 5,
   "metadata": {},
   "outputs": [],
   "source": [
    "# Create vectorizor and fit_transfrom 'loan_use': vectorizor, x\n",
    "vectorizer = TfidfVectorizer(stop_words='english')\n",
    "x = vectorizer.fit_transform(loan_use)"
   ]
  },
  {
   "cell_type": "markdown",
   "metadata": {},
   "source": [
    "### Cluster the text descriptions"
   ]
  },
  {
   "cell_type": "code",
   "execution_count": 6,
   "metadata": {},
   "outputs": [],
   "source": [
    "from sklearn.cluster import KMeans"
   ]
  },
  {
   "cell_type": "code",
   "execution_count": 7,
   "metadata": {},
   "outputs": [
    {
     "data": {
      "text/plain": [
       "KMeans(algorithm='auto', copy_x=True, init='k-means++', max_iter=300,\n",
       "    n_clusters=8, n_init=10, n_jobs=1, precompute_distances='auto',\n",
       "    random_state=None, tol=0.0001, verbose=0)"
      ]
     },
     "execution_count": 7,
     "metadata": {},
     "output_type": "execute_result"
    }
   ],
   "source": [
    "# Cluster vectorized descriptions: km\n",
    "clusters = 8\n",
    "km = KMeans(n_clusters=8)\n",
    "km.fit(x)"
   ]
  },
  {
   "cell_type": "code",
   "execution_count": 8,
   "metadata": {},
   "outputs": [
    {
     "name": "stdout",
     "output_type": "stream",
     "text": [
      "Top terms per cluster:\n",
      "Cluster 1:\n",
      " -purchase\n",
      " -business\n",
      " -sell\n",
      " -supplies\n",
      " -inventory\n",
      " -expand\n",
      " -merchandise\n",
      " -buying\n",
      " -livestock\n",
      " -products\n",
      "Cluster 2:\n",
      " -capital\n",
      " -working\n",
      " -additional\n",
      " -inventory\n",
      " -purchase\n",
      " -increase\n",
      " -use\n",
      " -business\n",
      " -provide\n",
      " -store\n",
      "Cluster 3:\n",
      " -materials\n",
      " -purchase\n",
      " -raw\n",
      " -construction\n",
      " -buy\n",
      " -building\n",
      " -needed\n",
      " -business\n",
      " -provide\n",
      " -service\n",
      "Cluster 4:\n",
      " -fertilizers\n",
      " -manure\n",
      " -purchase\n",
      " -seeds\n",
      " -farm\n",
      " -inputs\n",
      " -buy\n",
      " -supplies\n",
      " -fertilizer\n",
      " -farming\n",
      "Cluster 5:\n",
      " -buy\n",
      " -sell\n",
      " -fertilizer\n",
      " -rice\n",
      " -supplies\n",
      " -clothes\n",
      " -business\n",
      " -products\n",
      " -merchandise\n",
      " -bags\n",
      "Cluster 6:\n",
      " -expanding\n",
      " -invest\n",
      " -business\n",
      " -merchandise\n",
      " -food\n",
      " -retail\n",
      " -clothing\n",
      " -vegetable\n",
      " -specialized\n",
      " -selling\n",
      "Cluster 7:\n",
      " -stock\n",
      " -sell\n",
      " -store\n",
      " -add\n",
      " -buy\n",
      " -purchase\n",
      " -increase\n",
      " -bags\n",
      " -items\n",
      " -business\n",
      "Cluster 8:\n",
      " -products\n",
      " -additional\n",
      " -sell\n",
      " -purchase\n",
      " -fish\n",
      " -buy\n",
      " -store\n",
      " -capital\n",
      " -vegetables\n",
      " -bananas\n"
     ]
    }
   ],
   "source": [
    "# Print top terms\n",
    "print(\"Top terms per cluster:\")\n",
    "order_centroids = km.cluster_centers_.argsort()[:, ::-1]\n",
    "terms = vectorizer.get_feature_names()\n",
    "for i in range(clusters):\n",
    "    print('Cluster {}:'.format(i+1)),\n",
    "    for ind in order_centroids[i, :10]:\n",
    "        print(' -{}'.format(terms[ind])),\n",
    "    print"
   ]
  },
  {
   "cell_type": "markdown",
   "metadata": {},
   "source": [
    "### Add Cluster back into the dataframe"
   ]
  },
  {
   "cell_type": "code",
   "execution_count": null,
   "metadata": {},
   "outputs": [],
   "source": [
    "df_merged = pd.concat([df, pd.Series(km.labels_)], axis=1)"
   ]
  },
  {
   "cell_type": "code",
   "execution_count": null,
   "metadata": {},
   "outputs": [],
   "source": [
    "df_merged"
   ]
  },
  {
   "cell_type": "code",
   "execution_count": null,
   "metadata": {},
   "outputs": [],
   "source": []
  }
 ],
 "metadata": {
  "kernelspec": {
   "display_name": "Python 3",
   "language": "python",
   "name": "python3"
  },
  "language_info": {
   "codemirror_mode": {
    "name": "ipython",
    "version": 3
   },
   "file_extension": ".py",
   "mimetype": "text/x-python",
   "name": "python",
   "nbconvert_exporter": "python",
   "pygments_lexer": "ipython3",
   "version": "3.6.4"
  }
 },
 "nbformat": 4,
 "nbformat_minor": 2
}
