{
 "cells": [
  {
   "cell_type": "markdown",
   "metadata": {},
   "source": [
    "### Load and Prepare Data"
   ]
  },
  {
   "cell_type": "code",
   "execution_count": 16,
   "metadata": {},
   "outputs": [],
   "source": [
    "# Import libraries\n",
    "import pandas as pd\n",
    "import matplotlib.pyplot as plt\n",
    "import numpy as np"
   ]
  },
  {
   "cell_type": "code",
   "execution_count": 17,
   "metadata": {},
   "outputs": [],
   "source": [
    "# Load in data: df\n",
    "df = pd.read_csv('https://s3.amazonaws.com/clcarverloans/data/df_cleaned.csv')"
   ]
  },
  {
   "cell_type": "code",
   "execution_count": 18,
   "metadata": {},
   "outputs": [],
   "source": [
    "# Remove usesless rows: df_select\n",
    "cols = ['Borrower_Genders', 'Country Code', 'Loan Amount', 'Lender_Term',\n",
    "       'Repayment_Interval', 'Distribution_Model', 'Sector', 'Activity','Delinquent']\n",
    "df_select = df[cols]\n",
    "\n",
    "# One_hot_encode categorical columns: df_dummies\n",
    "df_dummies = pd.get_dummies(df_select)\n",
    "\n",
    "# Select features and target: X, y\n",
    "y = df_dummies.pop('Delinquent')\n",
    "X = df_dummies"
   ]
  },
  {
   "cell_type": "code",
   "execution_count": 19,
   "metadata": {},
   "outputs": [],
   "source": [
    "# Split data into train and test set: X_train, X_test, y_train, y_test\n",
    "from sklearn.model_selection import train_test_split\n",
    "X_train, X_test, y_train, y_test = train_test_split(X, y, test_size=0.2, random_state=42)"
   ]
  },
  {
   "cell_type": "markdown",
   "metadata": {},
   "source": [
    "### Create Trade-off Metric"
   ]
  },
  {
   "cell_type": "markdown",
   "metadata": {},
   "source": [
    "First off, we should know what the average principal per loan is"
   ]
  },
  {
   "cell_type": "code",
   "execution_count": 20,
   "metadata": {},
   "outputs": [
    {
     "name": "stdout",
     "output_type": "stream",
     "text": [
      "Average Loan Size is: $ 770.9566877046869\n"
     ]
    }
   ],
   "source": [
    "average_loan_amount = df['Loan Amount'].mean()\n",
    "print('Average Loan Size is: $', average_loan_amount)"
   ]
  },
  {
   "cell_type": "markdown",
   "metadata": {},
   "source": [
    "Next, we should know average interest rate of the loan. According to Kiva's Q&A section the field partners charge around 36%"
   ]
  },
  {
   "cell_type": "code",
   "execution_count": 21,
   "metadata": {},
   "outputs": [
    {
     "name": "stdout",
     "output_type": "stream",
     "text": [
      "Average Interest Rate: 36%\n"
     ]
    }
   ],
   "source": [
    "average_interest_rate = 0.36\n",
    "print('Average Interest Rate: {}%'.format(int(average_interest_rate*100)))"
   ]
  },
  {
   "cell_type": "code",
   "execution_count": 22,
   "metadata": {},
   "outputs": [
    {
     "name": "stdout",
     "output_type": "stream",
     "text": [
      "Average Profit Per Loan: $ 277.5444075736873\n"
     ]
    }
   ],
   "source": [
    "average_profit = average_loan_amount * average_interest_rate\n",
    "print('Average Profit Per Loan: $', average_profit)"
   ]
  },
  {
   "cell_type": "markdown",
   "metadata": {},
   "source": [
    "This means, on average, the banks make around $278 dollars per loan. The resulting cost benefit matrix would look like so:"
   ]
  },
  {
   "cell_type": "markdown",
   "metadata": {},
   "source": [
    "TP = 0, FP = -278, FN = -770, TN = +278"
   ]
  },
  {
   "cell_type": "markdown",
   "metadata": {},
   "source": [
    "### Create Functions to Create Profit Curve"
   ]
  },
  {
   "cell_type": "code",
   "execution_count": 62,
   "metadata": {},
   "outputs": [],
   "source": [
    "labels = np.array([1,0,0,1])\n",
    "predicted_probs = np.array([0.8,0.3,0.2,0.5])\n",
    "# Sort the probabilities: sorted_probs\n",
    "sorted_probs = np.sort(predicted_probs)"
   ]
  },
  {
   "cell_type": "code",
   "execution_count": 75,
   "metadata": {},
   "outputs": [
    {
     "name": "stdout",
     "output_type": "stream",
     "text": [
      "[ True False False  True]\n",
      "[0.2 0.3 0.5 0.8]\n",
      "[False False False  True]\n",
      "[0.2 0.3 0.5 0.8]\n",
      "[False  True False  True]\n",
      "[0.2 0.3 0.5 0.8]\n",
      "[False  True  True  True]\n",
      "[0.2 0.3 0.5 0.8]\n"
     ]
    }
   ],
   "source": [
    "for i in range(len(sorted_probs)):\n",
    "        print((sorted_probs >= sorted_probs[i]) == labels)\n",
    "        print(sorted_probs)"
   ]
  },
  {
   "cell_type": "code",
   "execution_count": 34,
   "metadata": {},
   "outputs": [],
   "source": [
    "from sklearn.metrics import confusion_matrix\n",
    "\n",
    "# Create a function that returns an array of the profits at each threshold: profit_curve\n",
    "def profit_curve(cost_benefit, predicted_probs, labels):\n",
    "    \n",
    "    # Sort the probabilities: sorted_probs\n",
    "    sorted_probs = np.sort(predicted_probs)\n",
    "    \n",
    "    # Make predictions at each threshold level: y_predictions\n",
    "    y_predictions = [] # List of a list of predictions\n",
    "    for threshold in sorted_probs:\n",
    "        (sorted_probs >= sorted_probs[threshold]) == y_true # Set the current probability to the threshold\n",
    "        \n",
    "        # Check each probability in sorted_probs against the threshold and create a list of predictions: y_pred\n",
    "        y_pred = []\n",
    "        for prob in sorted_probs:\n",
    "            if prob > threshold:\n",
    "                y_pred.append(1) \n",
    "            else:\n",
    "                y_pred.append(0)\n",
    "        y_predictions.append(y_pred)\n",
    "              \n",
    "    # Calculate profit for each confusion matrix: profit_list\n",
    "    profit_list = []\n",
    "    for y_pred in y_predictions:\n",
    "        conf_matrix = confusion_matrix(labels, y_pred)\n",
    "        value_matrix = np.dot(conf_matrix, cost_benefit)\n",
    "        profit_list.append(np.sum(value_matrix)/(len(labels)))  # Profit at single threshold added to profit_list  \n",
    "    \n",
    "    # Return an array of the profits at each threshold\n",
    "    return profit_list"
   ]
  },
  {
   "cell_type": "code",
   "execution_count": 59,
   "metadata": {},
   "outputs": [
    {
     "data": {
      "text/plain": [
       "array([ True, False,  True, False])"
      ]
     },
     "execution_count": 59,
     "metadata": {},
     "output_type": "execute_result"
    }
   ],
   "source": [
    "(y_pred >= y_pred[1]) == y_true"
   ]
  },
  {
   "cell_type": "code",
   "execution_count": 35,
   "metadata": {},
   "outputs": [],
   "source": [
    "# Build a function that plots our profit curve: plot_profit_curve\n",
    "def plot_profit_curve(model, cost_benefit, X_train, X_test, y_train, y_test):\n",
    "    md = model\n",
    "    md.fit(X_train, y_train)\n",
    "    probs = md.predict_proba(X_test)[:,1]\n",
    "    profits = profit_curve(cost_benefit, probs, y_test)\n",
    "    percentages = np.arange(0, 100, 100. / len(profits))\n",
    "    ax = plt.plot(percentages, profits)\n",
    "    plt.title(\"Profit Curve\")\n",
    "    plt.ylabel(\"Profit\")\n",
    "    plt.show()"
   ]
  },
  {
   "cell_type": "code",
   "execution_count": 52,
   "metadata": {},
   "outputs": [],
   "source": [
    "cost_benefit_matrix = np.array([[average_profit, -average_profit], [-average_loan_amount, 0]])"
   ]
  },
  {
   "cell_type": "code",
   "execution_count": 53,
   "metadata": {},
   "outputs": [],
   "source": [
    "from sklearn.tree import DecisionTreeClassifier\n",
    "dt = DecisionTreeClassifier(class_weight={0:1, 1:24})"
   ]
  },
  {
   "cell_type": "code",
   "execution_count": 54,
   "metadata": {
    "scrolled": true
   },
   "outputs": [
    {
     "name": "stderr",
     "output_type": "stream",
     "text": [
      "No handles with labels found to put in legend.\n"
     ]
    },
    {
     "data": {
      "image/png": "[encoded data removed]",
      "text/plain": [
       "<matplotlib.figure.Figure at 0x7f6f569196a0>"
      ]
     },
     "metadata": {},
     "output_type": "display_data"
    }
   ],
   "source": [
    "plot_profit_curve(dt, cost_benefit_matrix, X_train, X_test, y_train, y_test)"
   ]
  },
  {
   "cell_type": "code",
   "execution_count": null,
   "metadata": {},
   "outputs": [],
   "source": [
    "from sklearn.metrics import roc_curve\n",
    "tpr, fpr, th"
   ]
  },
  {
   "cell_type": "markdown",
   "metadata": {},
   "source": [
    "___"
   ]
  },
  {
   "cell_type": "code",
   "execution_count": null,
   "metadata": {},
   "outputs": [],
   "source": [
    "from sklearn.metrics import confusion_matrix, recall_score\n",
    "\n",
    "# Create a function that returns an array of the number of borrowers blocked at each threshold: trade_off_curve\n",
    "def trade_off_curve(predicted_probs, labels):\n",
    "    \n",
    "    # Sort the probabilities: sorted_probs\n",
    "    sorted_probs = np.sort(predicted_probs)\n",
    "    \n",
    "    # Make predictions at each threshold level: y_predictions\n",
    "    y_predictions = [] # List of a list of predictions\n",
    "    for prob in sorted_probs:\n",
    "        threshold = prob # Set the current probability to the threshold\n",
    "        \n",
    "        # Check each probability in sorted_probs against the threshold and create a list of predictions: y_pred\n",
    "        y_pred = []\n",
    "        for prob in sorted_probs:\n",
    "            if prob > threshold:\n",
    "                y_pred.append(1) \n",
    "            else:\n",
    "                y_pred.append(0)\n",
    "        y_predictions.append(y_pred)\n",
    "              \n",
    "    # Calculate profit for each confusion matrix: profit_list\n",
    "    recall_list = []\n",
    "    specificity_list = []\n",
    "    for y_pred in y_predictions:\n",
    "        recall = recall_score(labels, y_pred) # Compute recall\n",
    "        conf_matrix = confusion_matrix(labels, y_pred) # Create confusion matrix to calculate specificity (TNR)\n",
    "        specificity = confusion_matrix\n",
    "        profit_list.append(np.sum(value_matrix)/(len(labels)))  # Profit at single threshold added to profit_list  \n",
    "    \n",
    "    # Return an array of the profits at each threshold\n",
    "    return profit_list"
   ]
  }
 ],
 "metadata": {
  "kernelspec": {
   "display_name": "Python 3",
   "language": "python",
   "name": "python3"
  },
  "language_info": {
   "codemirror_mode": {
    "name": "ipython",
    "version": 3
   },
   "file_extension": ".py",
   "mimetype": "text/x-python",
   "name": "python",
   "nbconvert_exporter": "python",
   "pygments_lexer": "ipython3",
   "version": "3.6.4"
  }
 },
 "nbformat": 4,
 "nbformat_minor": 2
}
