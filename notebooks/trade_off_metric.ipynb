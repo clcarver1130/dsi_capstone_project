{
 "cells": [
  {
   "cell_type": "markdown",
   "metadata": {},
   "source": [
    "### Load and Prepare Data"
   ]
  },
  {
   "cell_type": "code",
   "execution_count": 1,
   "metadata": {},
   "outputs": [],
   "source": [
    "# Import libraries\n",
    "import pandas as pd\n",
    "import matplotlib.pyplot as plt\n",
    "import numpy as np"
   ]
  },
  {
   "cell_type": "code",
   "execution_count": 2,
   "metadata": {},
   "outputs": [],
   "source": [
    "# Load in data: df\n",
    "df = pd.read_csv('https://s3.amazonaws.com/clcarverloans/data/df_cleaned.csv')"
   ]
  },
  {
   "cell_type": "code",
   "execution_count": 4,
   "metadata": {},
   "outputs": [],
   "source": [
    "# Remove usesless rows: df_select\n",
    "cols = ['Borrower_Genders', 'Country Code', 'Loan Amount', 'Lender_Term',\n",
    "       'Repayment_Interval', 'Distribution_Model', 'Sector', 'Activity','Delinquent']\n",
    "df_select = df[cols]\n",
    "\n",
    "# One_hot_encode categorical columns: df_dummies\n",
    "df_dummies = pd.get_dummies(df_select)\n",
    "\n",
    "# Select features and target: X, y\n",
    "y = df_dummies.pop('Delinquent')\n",
    "X = df_dummies"
   ]
  },
  {
   "cell_type": "code",
   "execution_count": 6,
   "metadata": {},
   "outputs": [],
   "source": [
    "# Split data into train and test set: train_set, test_set\n",
    "from sklearn.model_selection import train_test_split\n",
    "X_train, X_test, y_train, y_test = train_test_split(X, y, test_size=0.2, random_state=42)"
   ]
  },
  {
   "cell_type": "markdown",
   "metadata": {},
   "source": [
    "### Create Trade-off Metric"
   ]
  },
  {
   "cell_type": "markdown",
   "metadata": {},
   "source": [
    "First off, we should know what the average principal per loan is"
   ]
  },
  {
   "cell_type": "code",
   "execution_count": 11,
   "metadata": {},
   "outputs": [
    {
     "name": "stdout",
     "output_type": "stream",
     "text": [
      "Average Loan Size is: $ 770.9566877046869\n"
     ]
    }
   ],
   "source": [
    "average_loan_amount = df['Loan Amount'].mean()\n",
    "print('Average Loan Size is: $', average_loan_amount)"
   ]
  },
  {
   "cell_type": "markdown",
   "metadata": {},
   "source": [
    "Next, we should know average interest rate of the loan. According to Kiva's Q&A section the field partners charge around 36%"
   ]
  },
  {
   "cell_type": "code",
   "execution_count": 14,
   "metadata": {},
   "outputs": [
    {
     "name": "stdout",
     "output_type": "stream",
     "text": [
      "Average Interest Rate: 36%\n"
     ]
    }
   ],
   "source": [
    "average_interest_rate = 0.36\n",
    "print('Average Interest Rate: {}%'.format(int(average_interest_rate*100)))"
   ]
  },
  {
   "cell_type": "code",
   "execution_count": 15,
   "metadata": {},
   "outputs": [
    {
     "name": "stdout",
     "output_type": "stream",
     "text": [
      "Average Profit Per Loan: $ 277.5444075736873\n"
     ]
    }
   ],
   "source": [
    "average_profit = average_loan_amount * average_interest_rate\n",
    "print('Average Profit Per Loan: $', average_profit)"
   ]
  },
  {
   "cell_type": "markdown",
   "metadata": {},
   "source": [
    "This means, on average, the banks make around $278 dollars per loan. The resulting cost benefit matrix would look like so:"
   ]
  },
  {
   "cell_type": "code",
   "execution_count": null,
   "metadata": {},
   "outputs": [],
   "source": []
  }
 ],
 "metadata": {
  "kernelspec": {
   "display_name": "Python 3",
   "language": "python",
   "name": "python3"
  },
  "language_info": {
   "codemirror_mode": {
    "name": "ipython",
    "version": 3
   },
   "file_extension": ".py",
   "mimetype": "text/x-python",
   "name": "python",
   "nbconvert_exporter": "python",
   "pygments_lexer": "ipython3",
   "version": "3.6.4"
  }
 },
 "nbformat": 4,
 "nbformat_minor": 2
}
