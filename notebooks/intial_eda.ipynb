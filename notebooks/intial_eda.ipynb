{
 "cells": [
  {
   "cell_type": "markdown",
   "metadata": {},
   "source": [
    "# Pre-Model EDA"
   ]
  },
  {
   "cell_type": "markdown",
   "metadata": {},
   "source": [
    "### Load in the data from s3"
   ]
  },
  {
   "cell_type": "code",
   "execution_count": 1,
   "metadata": {},
   "outputs": [],
   "source": [
    "# Import libraries\n",
    "import pandas as pd\n",
    "import numpy as np\n",
    "import matplotlib.pyplot as plt\n",
    "import seaborn as sns\n",
    "plt.style.use('seaborn-white')"
   ]
  },
  {
   "cell_type": "code",
   "execution_count": 2,
   "metadata": {},
   "outputs": [],
   "source": [
    "# Load in data: df\n",
    "df = pd.read_csv('https://s3.amazonaws.com/clcarverloans/data/df_cleaned.csv')"
   ]
  },
  {
   "cell_type": "markdown",
   "metadata": {},
   "source": [
    "### EDA"
   ]
  },
  {
   "cell_type": "code",
   "execution_count": 3,
   "metadata": {},
   "outputs": [],
   "source": [
    "# Create function to convert colors: rgb_colors\n",
    "def rgb_color(r,g,b):\n",
    "    r = r/255.\n",
    "    g = g/255.\n",
    "    b = b/255.\n",
    "    return(r,g,b)"
   ]
  },
  {
   "cell_type": "code",
   "execution_count": 4,
   "metadata": {},
   "outputs": [],
   "source": [
    "# Create colors:\n",
    "tableau_blue = rgb_color(31,119,180)\n",
    "tableau_grey = rgb_color(127,127,127)"
   ]
  },
  {
   "cell_type": "code",
   "execution_count": 5,
   "metadata": {
    "scrolled": true
   },
   "outputs": [
    {
     "data": {
      "image/png": "[encoded data removed]",
      "text/plain": [
       "<matplotlib.figure.Figure at 0x7f7006479cc0>"
      ]
     },
     "metadata": {},
     "output_type": "display_data"
    }
   ],
   "source": [
    "# Breakdown by Gender\n",
    "\n",
    "# Group and sort:\n",
    "gender_groups = df.groupby('Borrower_Genders')['Id'].count()\n",
    "groups_sorted = gender_groups.sort_values(ascending=False)\n",
    "female_pct = int(round((df.groupby('Borrower_Genders')['Id'].count()['female']/len(df))*100, 0))\n",
    "\n",
    "# Create plot\n",
    "ax = groups_sorted.plot(kind='bar')\n",
    "for bar in ax.patches:\n",
    "    bar.set_facecolor(color=rgb_color(127,127,127)) # Set all to grey\n",
    "ax.patches[0].set_facecolor(rgb_color(31,119,180)) # highlight first with blue\n",
    "ax.spines['right'].set_visible(False) \n",
    "ax.spines['top'].set_visible(False)\n",
    "ax.spines['bottom'].set_color(tableau_grey) \n",
    "ax.spines['left'].set_color(tableau_grey)\n",
    "ax.axes.get_yaxis().set_ticks([])\n",
    "plt.xlabel('')\n",
    "plt.margins(0.2)\n",
    "plt.text(0,48000, str(female_pct)+'%', horizontalalignment='center', color='w', size=14, weight='bold')\n",
    "plt.xticks(range(3), ['Female', 'Male', 'Group'], rotation='horizontal')\n",
    "plt.ylabel('Percent of Total Borrowers')\n",
    "plt.title('Borrower Gender by Percent of Total')\n",
    "plt.savefig('../pictures/borrowers_by_gender.png', dpi=600, transparent=True, bbox_inches='tight')\n",
    "plt.show()"
   ]
  },
  {
   "cell_type": "code",
   "execution_count": 6,
   "metadata": {},
   "outputs": [],
   "source": [
    "default_sector = sorted(df.groupby('Sector').sum()['Delinquent']/df.groupby('Sector').count()['Delinquent'], reverse=False)\n",
    "sector_list = (df.groupby('Sector').sum()['Delinquent']/df.groupby('Sector').count()['Delinquent']).index[np.argsort(default_sector)]\n",
    "default_by_sector = pd.DataFrame({'Sector': sector_list, 'Default_pct': default_sector})\n",
    "default_by_sector.set_index('Sector', inplace=True)"
   ]
  },
  {
   "cell_type": "code",
   "execution_count": 7,
   "metadata": {
    "scrolled": false
   },
   "outputs": [
    {
     "data": {
      "image/png": "[encoded data removed]",
      "text/plain": [
       "<matplotlib.figure.Figure at 0x7f7009ef9f60>"
      ]
     },
     "metadata": {},
     "output_type": "display_data"
    }
   ],
   "source": [
    "ax = default_by_sector.plot(kind='barh', legend=False)\n",
    "plt.axvline(default_by_sector['Default_pct'].mean(), color='grey', linestyle='--')\n",
    "for bar in ax.patches:\n",
    "    bar.set_facecolor(color=rgb_color(127,127,127)) # Set all to grey\n",
    "for bar in range(-6,0): \n",
    "    ax.patches[bar].set_facecolor(rgb_color(31,119,180)) # highlight those above average with blue\n",
    "labels=[str(int(round(label*100)))+'%' for label in np.arange(0,0.08,0.01)]    \n",
    "plt.title('Loan Default Rates by Sector', loc='left')\n",
    "plt.ylabel('')\n",
    "plt.xlabel('Percent of Loans')\n",
    "plt.xticks(np.arange(0,0.08, 0.01), labels)\n",
    "ax.spines['right'].set_visible(False) \n",
    "ax.spines['top'].set_visible(False)\n",
    "ax.spines['bottom'].set_color(tableau_grey) \n",
    "ax.spines['left'].set_color(tableau_grey)\n",
    "plt.savefig('../pictures/defaults_by_sector.png', dpi=600, transparent=True, bbox_inches='tight', orientation='landscape')"
   ]
  },
  {
   "cell_type": "code",
   "execution_count": 15,
   "metadata": {},
   "outputs": [],
   "source": [
    "default_by_country = pd.DataFrame(df.groupby('Country').sum()['Delinquent']/df.groupby('Country').count()['Delinquent']).sort_values('Delinquent')\n",
    "best_countries = default_by_country.iloc[:5]\n",
    "worst_countries = default_by_country.iloc[-5:]"
   ]
  },
  {
   "cell_type": "code",
   "execution_count": 18,
   "metadata": {
    "scrolled": false
   },
   "outputs": [
    {
     "ename": "NameError",
     "evalue": "name 'worst_countries' is not defined",
     "output_type": "error",
     "traceback": [
      "\u001b[0;31m---------------------------------------------------------------------------\u001b[0m",
      "\u001b[0;31mNameError\u001b[0m                                 Traceback (most recent call last)",
      "\u001b[0;32m<ipython-input-18-8508de74484d>\u001b[0m in \u001b[0;36m<module>\u001b[0;34m()\u001b[0m\n\u001b[0;32m----> 1\u001b[0;31m \u001b[0max\u001b[0m \u001b[0;34m=\u001b[0m \u001b[0mworst_countries\u001b[0m\u001b[0;34m.\u001b[0m\u001b[0mplot\u001b[0m\u001b[0;34m(\u001b[0m\u001b[0mkind\u001b[0m\u001b[0;34m=\u001b[0m\u001b[0;34m'barh'\u001b[0m\u001b[0;34m,\u001b[0m \u001b[0mlegend\u001b[0m\u001b[0;34m=\u001b[0m\u001b[0;32mFalse\u001b[0m\u001b[0;34m)\u001b[0m\u001b[0;34m\u001b[0m\u001b[0m\n\u001b[0m\u001b[1;32m      2\u001b[0m \u001b[0mplt\u001b[0m\u001b[0;34m.\u001b[0m\u001b[0mtitle\u001b[0m\u001b[0;34m(\u001b[0m\u001b[0;34m'Countries with Highest Default Rates'\u001b[0m\u001b[0;34m,\u001b[0m \u001b[0mloc\u001b[0m\u001b[0;34m=\u001b[0m\u001b[0;34m'center'\u001b[0m\u001b[0;34m)\u001b[0m\u001b[0;34m\u001b[0m\u001b[0m\n\u001b[1;32m      3\u001b[0m \u001b[0mplt\u001b[0m\u001b[0;34m.\u001b[0m\u001b[0mmargins\u001b[0m\u001b[0;34m(\u001b[0m\u001b[0;36m0.3\u001b[0m\u001b[0;34m)\u001b[0m\u001b[0;34m\u001b[0m\u001b[0m\n\u001b[1;32m      4\u001b[0m \u001b[0mplt\u001b[0m\u001b[0;34m.\u001b[0m\u001b[0mxlabel\u001b[0m\u001b[0;34m(\u001b[0m\u001b[0;34m''\u001b[0m\u001b[0;34m)\u001b[0m\u001b[0;34m\u001b[0m\u001b[0m\n\u001b[1;32m      5\u001b[0m \u001b[0mplt\u001b[0m\u001b[0;34m.\u001b[0m\u001b[0mxlabel\u001b[0m\u001b[0;34m(\u001b[0m\u001b[0;34m'Percent of Loans Defaulted'\u001b[0m\u001b[0;34m)\u001b[0m\u001b[0;34m\u001b[0m\u001b[0m\n",
      "\u001b[0;31mNameError\u001b[0m: name 'worst_countries' is not defined"
     ]
    }
   ],
   "source": [
    "ax = worst_countries.plot(kind='barh', legend=False)\n",
    "plt.title('Countries with Highest Default Rates', loc='center')\n",
    "plt.margins(0.3)\n",
    "plt.xlabel('')\n",
    "plt.xlabel('Percent of Loans Defaulted')\n",
    "plt.ylabel('')\n",
    "labels=[str(int(round(label*100)))+'%' for label in np.arange(0,0.7,0.1)]\n",
    "plt.xticks(np.arange(0,0.7,0.1),labels)\n",
    "ax.spines['right'].set_visible(False) \n",
    "ax.spines['top'].set_visible(False)\n",
    "ax.spines['bottom'].set_color(tableau_grey) \n",
    "ax.spines['left'].set_color(tableau_grey)\n",
    "plt.savefig('../pictures/defaults_worst_countries.png', dpi=600, transparent=True, bbox_inches='tight', orientation='landscape')\n",
    "plt.show()"
   ]
  },
  {
   "cell_type": "code",
   "execution_count": 44,
   "metadata": {
    "scrolled": true
   },
   "outputs": [
    {
     "data": {
      "image/png": "[encoded data removed]",
      "text/plain": [
       "<matplotlib.figure.Figure at 0x7f70091f7d68>"
      ]
     },
     "metadata": {},
     "output_type": "display_data"
    }
   ],
   "source": [
    "ax = sns.boxplot(x='Loan Amount', data=df, showfliers=False, color=tableau_blue, saturation=1, linewidth=1, whis=1.5)\n",
    "ax.spines['right'].set_visible(False) \n",
    "ax.spines['top'].set_visible(False)\n",
    "ax.spines['bottom'].set_color(tableau_grey) \n",
    "ax.spines['left'].set_visible(False)\n",
    "plt.setp(ax.lines, color=tableau_grey)\n",
    "plt.title('Distribution of Loan Amounts')\n",
    "plt.savefig('../pictures/distribution_loan_amounts.png', dpi=600, transparent=True, bbox_inches='tight', orientation='landscape')\n",
    "plt.show()"
   ]
  },
  {
   "cell_type": "code",
   "execution_count": 68,
   "metadata": {
    "scrolled": true
   },
   "outputs": [
    {
     "data": {
      "image/png": "[encoded data removed]",
      "text/plain": [
       "<matplotlib.figure.Figure at 0x7f6ffe0ec2b0>"
      ]
     },
     "metadata": {},
     "output_type": "display_data"
    }
   ],
   "source": [
    "ax = df['Loan Amount'].plot(kind='hist', bins=60, color=tableau_grey)\n",
    "plt.margins(0.3)\n",
    "ax.spines['right'].set_visible(False) \n",
    "ax.spines['top'].set_visible(False)\n",
    "ax.spines['bottom'].set_color(tableau_grey) \n",
    "ax.spines['left'].set_color(tableau_grey)\n",
    "plt.xlabel('Loan Amount')\n",
    "plt.axvline(df['Loan Amount'].mean(), color=tableau_blue, linestyle='--')\n",
    "plt.title('Distribution of Loan Amounts')\n",
    "plt.xlim(df['Loan Amount'].min(), 3000)\n",
    "plt.text(df['Loan Amount'].mean(), 17000, '  AVG', horizontalalignment='left', color=tableau_blue, size=14, weight='bold')\n",
    "ax.axes.get_yaxis().set_ticks([])\n",
    "plt.savefig('../pictures/loan_amount_hist.png', dpi=600, transparent=True, bbox_inches='tight', orientation='landscape')\n",
    "plt.show()"
   ]
  },
  {
   "cell_type": "code",
   "execution_count": 9,
   "metadata": {},
   "outputs": [],
   "source": [
    "default_by_gender = pd.DataFrame(df.groupby('Borrower_Genders').sum()['Delinquent']/df.groupby('Borrower_Genders').count()['Delinquent']).sort_values('Delinquent', ascending=False)"
   ]
  },
  {
   "cell_type": "code",
   "execution_count": 49,
   "metadata": {
    "scrolled": true
   },
   "outputs": [
    {
     "data": {
      "image/png": "[encoded data removed]",
      "text/plain": [
       "<matplotlib.figure.Figure at 0x7f7964160d30>"
      ]
     },
     "metadata": {},
     "output_type": "display_data"
    }
   ],
   "source": [
    "ax = default_by_gender.plot(kind='bar', legend=False)\n",
    "for bar in ax.patches:\n",
    "    bar.set_facecolor(color=rgb_color(127,127,127)) # Set all to grey\n",
    "ax.patches[0].set_facecolor(rgb_color(31,119,180)) # highlight first with blue\n",
    "ax.spines['right'].set_visible(False) \n",
    "ax.spines['top'].set_visible(False)\n",
    "ax.spines['bottom'].set_color(tableau_grey) \n",
    "ax.spines['left'].set_color(tableau_grey)\n",
    "ax.axes.get_yaxis().set_ticks([])\n",
    "plt.text(0,0.165, str(int(default_by_gender.iloc[0,0]*100))+'%', horizontalalignment='center', color=tableau_blue, size=14, weight='bold')\n",
    "plt.text(1,0.01, str(round(default_by_gender.iloc[1,0]*100, 2))+'%', horizontalalignment='center', color=tableau_grey, size=14, weight='bold')\n",
    "plt.text(2,0.01, str(round(default_by_gender.iloc[2,0]*100, 2))+'%', horizontalalignment='center', color=tableau_grey, size=14, weight='bold')\n",
    "plt.xlabel('')\n",
    "plt.title('Loan Default Rates by Gender')\n",
    "plt.ylabel('Percent of Loans Defaulted')\n",
    "plt.xticks(range(3), ['Group', 'Male', 'Female'], rotation='horizontal')\n",
    "plt.savefig('../pictures/loan_default_gender.png', dpi=600, transparent=True, bbox_inches='tight', orientation='landscape')\n",
    "plt.margins(0.2)"
   ]
  },
  {
   "cell_type": "code",
   "execution_count": 54,
   "metadata": {},
   "outputs": [],
   "source": [
    "default_pct = df['Delinquent'].sum()/df['Delinquent'].count()\n",
    "repayment_rate = 1 - default_pct"
   ]
  },
  {
   "cell_type": "code",
   "execution_count": 63,
   "metadata": {},
   "outputs": [],
   "source": [
    "class_inbalance = [repayment_rate, default_pct]\n",
    "class_inbalance_df = pd.DataFrame(class_inbalance)"
   ]
  },
  {
   "cell_type": "code",
   "execution_count": 81,
   "metadata": {},
   "outputs": [
    {
     "data": {
      "image/png": "[encoded data removed]",
      "text/plain": [
       "<matplotlib.figure.Figure at 0x7f79633582b0>"
      ]
     },
     "metadata": {},
     "output_type": "display_data"
    }
   ],
   "source": [
    "ax = class_inbalance_df.plot(kind='bar', legend=False)\n",
    "for bar in ax.patches:\n",
    "    bar.set_facecolor(color=rgb_color(127,127,127)) # Set all to grey\n",
    "ax.patches[1].set_facecolor(rgb_color(31,119,180)) # highlight first with blue\n",
    "ax.spines['right'].set_visible(False) \n",
    "ax.spines['top'].set_visible(False)\n",
    "ax.spines['bottom'].set_color(tableau_grey) \n",
    "ax.spines['left'].set_color(tableau_grey)\n",
    "ax.axes.get_yaxis().set_ticks([])\n",
    "plt.xlabel('')\n",
    "plt.title('2010 Loan Repayment Rate')\n",
    "plt.ylabel('Percent of Loans')\n",
    "plt.xticks(range(2), ['Repaid', 'Default'], rotation='horizontal')\n",
    "plt.margins(0.2)\n",
    "plt.text(0,0.99, str(round(class_inbalance[0]*100, 2))+'%', horizontalalignment='center', color=tableau_grey, size=14, weight='bold')\n",
    "plt.text(1,0.07, str(round(class_inbalance[1]*100, 2))+'%', horizontalalignment='center', color=tableau_blue, size=14, weight='bold')\n",
    "plt.savefig('../pictures/class_inbalance.png', dpi=600, transparent=True, bbox_inches='tight', orientation='landscape')"
   ]
  },
  {
   "cell_type": "code",
   "execution_count": null,
   "metadata": {},
   "outputs": [],
   "source": []
  }
 ],
 "metadata": {
  "kernelspec": {
   "display_name": "Python 3",
   "language": "python",
   "name": "python3"
  },
  "language_info": {
   "codemirror_mode": {
    "name": "ipython",
    "version": 3
   },
   "file_extension": ".py",
   "mimetype": "text/x-python",
   "name": "python",
   "nbconvert_exporter": "python",
   "pygments_lexer": "ipython3",
   "version": "3.6.4"
  }
 },
 "nbformat": 4,
 "nbformat_minor": 2
}
