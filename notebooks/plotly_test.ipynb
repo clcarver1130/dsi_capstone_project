{
 "cells": [
  {
   "cell_type": "code",
   "execution_count": 1,
   "metadata": {},
   "outputs": [],
   "source": [
    "import pandas as pd\n",
    "import plotly as py\n",
    "import numpy as np\n",
    "py.tools.set_credentials_file(username='clcarver', api_key='IsOMdkWRhw3WZouQQO9S')"
   ]
  },
  {
   "cell_type": "code",
   "execution_count": 2,
   "metadata": {},
   "outputs": [],
   "source": [
    "# Load in codes: df_codes\n",
    "df_codes = pd.read_csv('../country_codes.csv')"
   ]
  },
  {
   "cell_type": "code",
   "execution_count": 3,
   "metadata": {},
   "outputs": [],
   "source": [
    "# Load in data: df\n",
    "df_clean = pd.read_csv('https://s3.amazonaws.com/clcarverloans/data/df_cleaned.csv')"
   ]
  },
  {
   "cell_type": "code",
   "execution_count": 4,
   "metadata": {},
   "outputs": [],
   "source": [
    "default_by_country = pd.DataFrame(df_clean.groupby('Country Code').sum()['Delinquent']/df_clean.groupby('Country Code').count()['Delinquent']).sort_values('Delinquent')"
   ]
  },
  {
   "cell_type": "code",
   "execution_count": 5,
   "metadata": {},
   "outputs": [],
   "source": [
    "# Add in 3 digit codes and add missing countries\n",
    "df_merged = default_by_country.merge(df_codes, how='outer', left_index=True, right_on='Code_2')"
   ]
  },
  {
   "cell_type": "code",
   "execution_count": 6,
   "metadata": {},
   "outputs": [],
   "source": [
    "df_merged['Delinquent'].fillna(0, inplace=True)"
   ]
  },
  {
   "cell_type": "code",
   "execution_count": 7,
   "metadata": {},
   "outputs": [],
   "source": [
    "df_merged['Delinquent'] = round((df_merged['Delinquent']*100), 2)"
   ]
  },
  {
   "cell_type": "code",
   "execution_count": null,
   "metadata": {},
   "outputs": [],
   "source": [
    "background-image: linear-gradient(to right top, #c7c7c7, #c3b1c4, #cf96ad, #d67c82, #cb6b48);"
   ]
  },
  {
   "cell_type": "code",
   "execution_count": 42,
   "metadata": {},
   "outputs": [],
   "source": [
    "data = [ dict(\n",
    "        type = 'choropleth',\n",
    "        locations = df_merged['Code_3'],\n",
    "        z = df_merged['Delinquent'],\n",
    "        text = df_merged['Country'],\n",
    "        colorscale = [[0, '#C7C7C7'], [0.01,\"#c3b1c4\"],[0.15,\"#cf96ad\"],[0.25,\"#d67c82\"],[1,\"#cb6b48\"]],\n",
    "        autocolorscale = False,\n",
    "        reversescale = False,\n",
    "        marker = dict(\n",
    "            line = dict (\n",
    "                color = 'rgb(180,180,180)',\n",
    "                width = 0.5\n",
    "            ) ),\n",
    "        colorbar = dict(\n",
    "            autotick = True,\n",
    "            ticksuffix = '%',\n",
    "            title = 'Default Rates'),\n",
    "      ) ]\n",
    "\n",
    "layout = dict(\n",
    "    geo = dict(\n",
    "        showframe = False,\n",
    "        showcoastlines = False,\n",
    "        projection = dict(\n",
    "            type = 'Mercator'\n",
    "        )\n",
    "    ),\n",
    "    font = dict(family='Montserrat', size=16) \n",
    ")\n",
    "\n",
    "fig = dict( data=data, layout=layout )\n",
    "py.plotly.iplot(fig, filename='default_by_country.png', validate=False)\n",
    "py.plotly.image.save_as(fig, filename='../pictures/default_by_country.png', scale=8)"
   ]
  },
  {
   "cell_type": "code",
   "execution_count": null,
   "metadata": {},
   "outputs": [],
   "source": []
  }
 ],
 "metadata": {
  "kernelspec": {
   "display_name": "Python 3",
   "language": "python",
   "name": "python3"
  },
  "language_info": {
   "codemirror_mode": {
    "name": "ipython",
    "version": 3
   },
   "file_extension": ".py",
   "mimetype": "text/x-python",
   "name": "python",
   "nbconvert_exporter": "python",
   "pygments_lexer": "ipython3",
   "version": "3.6.4"
  }
 },
 "nbformat": 4,
 "nbformat_minor": 2
}
