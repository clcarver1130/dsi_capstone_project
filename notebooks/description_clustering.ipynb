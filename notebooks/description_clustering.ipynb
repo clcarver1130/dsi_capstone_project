{
 "cells": [
  {
   "cell_type": "code",
   "execution_count": 1,
   "metadata": {},
   "outputs": [],
   "source": [
    "# Import libraries\n",
    "import pandas as pd\n",
    "import matplotlib.pyplot as plt\n",
    "import numpy as np"
   ]
  },
  {
   "cell_type": "code",
   "execution_count": 2,
   "metadata": {},
   "outputs": [],
   "source": [
    "# Load in data: df\n",
    "df = pd.read_csv('https://s3.amazonaws.com/clcarverloans/data/df_cleaned.csv')"
   ]
  },
  {
   "cell_type": "code",
   "execution_count": 3,
   "metadata": {},
   "outputs": [],
   "source": [
    "# Select loan 'Use' column: loan_use\n",
    "loan_use = df['Use'].dropna() # Drop the one missing 'Use' datapoint\n",
    "\n",
    "# Select loan label 'Delinquent' to compare after the cluster: labels\n",
    "labels = df['Delinquent']"
   ]
  },
  {
   "cell_type": "code",
   "execution_count": 8,
   "metadata": {},
   "outputs": [
    {
     "data": {
      "text/plain": [
       "0    To purchase construction materials and labor f...\n",
       "1                        to buy construction materials\n",
       "2                   to purchase construction materials\n",
       "3        to expand and resupply three small businesses\n",
       "4                      to expand four small businesses\n",
       "Name: Use, dtype: object"
      ]
     },
     "execution_count": 8,
     "metadata": {},
     "output_type": "execute_result"
    }
   ],
   "source": [
    "loan_use.head()"
   ]
  },
  {
   "cell_type": "markdown",
   "metadata": {},
   "source": [
    "### Create TF-IDF Vectors of Loan Use"
   ]
  },
  {
   "cell_type": "code",
   "execution_count": 4,
   "metadata": {},
   "outputs": [],
   "source": [
    "from sklearn.feature_extraction.text import TfidfVectorizer"
   ]
  },
  {
   "cell_type": "code",
   "execution_count": 12,
   "metadata": {},
   "outputs": [],
   "source": [
    "# Create vectorizor and fit_transfrom 'loan_use': vectorizor, x\n",
    "vectorizer = TfidfVectorizer(stop_words='english')\n",
    "x = vectorizer.fit_transform(loan_use)"
   ]
  },
  {
   "cell_type": "code",
   "execution_count": 18,
   "metadata": {},
   "outputs": [],
   "source": [
    "with open('../scripts/vectorizer.pkl', 'wb') as output:\n",
    "    pickle.dump(vectorizer, output, pickle.HIGHEST_PROTOCOL)"
   ]
  },
  {
   "cell_type": "markdown",
   "metadata": {},
   "source": [
    "### Cluster the text descriptions"
   ]
  },
  {
   "cell_type": "code",
   "execution_count": 6,
   "metadata": {},
   "outputs": [],
   "source": [
    "from sklearn.cluster import KMeans"
   ]
  },
  {
   "cell_type": "code",
   "execution_count": 7,
   "metadata": {
    "scrolled": true
   },
   "outputs": [
    {
     "data": {
      "text/plain": [
       "KMeans(algorithm='auto', copy_x=True, init='k-means++', max_iter=300,\n",
       "    n_clusters=8, n_init=10, n_jobs=1, precompute_distances='auto',\n",
       "    random_state=None, tol=0.0001, verbose=0)"
      ]
     },
     "execution_count": 7,
     "metadata": {},
     "output_type": "execute_result"
    }
   ],
   "source": [
    "# Cluster vectorized descriptions: km\n",
    "clusters = 8\n",
    "km = KMeans(n_clusters=8)\n",
    "km.fit(x)"
   ]
  },
  {
   "cell_type": "code",
   "execution_count": 17,
   "metadata": {},
   "outputs": [],
   "source": [
    "# Save clustering model: cluster_model\n",
    "import pickle\n",
    "with open('../scripts/cluster_model.pkl', 'wb') as output:\n",
    "    pickle.dump(km, output, pickle.HIGHEST_PROTOCOL)"
   ]
  },
  {
   "cell_type": "code",
   "execution_count": 16,
   "metadata": {},
   "outputs": [
    {
     "data": {
      "text/plain": [
       "7"
      ]
     },
     "execution_count": 16,
     "metadata": {},
     "output_type": "execute_result"
    }
   ],
   "source": [
    "# Create vectorizor and transfrom 'loan_use': vectorizor, x\n",
    "use_vec = vectorizer.transform(['to buy construction materials'])\n",
    "km.predict(use_vec)[0]"
   ]
  },
  {
   "cell_type": "code",
   "execution_count": 8,
   "metadata": {},
   "outputs": [
    {
     "name": "stdout",
     "output_type": "stream",
     "text": [
      "Top terms per cluster:\n",
      "Cluster 1:\n",
      " -purchase\n",
      " -sell\n",
      " -business\n",
      " -stock\n",
      " -materials\n",
      " -expand\n",
      " -inventory\n",
      " -merchandise\n",
      " -buying\n",
      " -increase\n",
      "Cluster 2:\n",
      " -supplies\n",
      " -farm\n",
      " -feed\n",
      " -purchase\n",
      " -livestock\n",
      " -buy\n",
      " -farming\n",
      " -fertilizers\n",
      " -equipment\n",
      " -general\n",
      "Cluster 3:\n",
      " -fertilizer\n",
      " -fertilizers\n",
      " -seeds\n",
      " -manure\n",
      " -purchase\n",
      " -buy\n",
      " -farm\n",
      " -seed\n",
      " -crops\n",
      " -pesticide\n",
      "Cluster 4:\n",
      " -products\n",
      " -additional\n",
      " -sell\n",
      " -purchase\n",
      " -fish\n",
      " -buy\n",
      " -store\n",
      " -capital\n",
      " -vegetables\n",
      " -bananas\n",
      "Cluster 5:\n",
      " -expanding\n",
      " -invest\n",
      " -business\n",
      " -merchandise\n",
      " -food\n",
      " -retail\n",
      " -clothing\n",
      " -vegetable\n",
      " -specialized\n",
      " -selling\n",
      "Cluster 6:\n",
      " -capital\n",
      " -working\n",
      " -additional\n",
      " -inventory\n",
      " -purchase\n",
      " -increase\n",
      " -use\n",
      " -business\n",
      " -provide\n",
      " -store\n",
      "Cluster 7:\n",
      " -buy\n",
      " -sell\n",
      " -clothes\n",
      " -business\n",
      " -products\n",
      " -materials\n",
      " -merchandise\n",
      " -store\n",
      " -stock\n",
      " -clothing\n",
      "Cluster 8:\n",
      " -rice\n",
      " -sugar\n",
      " -oil\n",
      " -flour\n",
      " -buy\n",
      " -cooking\n",
      " -beans\n",
      " -bags\n",
      " -purchase\n",
      " -sell\n"
     ]
    }
   ],
   "source": [
    "# Print top terms\n",
    "print(\"Top terms per cluster:\")\n",
    "order_centroids = km.cluster_centers_.argsort()[:, ::-1]\n",
    "terms = vectorizer.get_feature_names()\n",
    "for i in range(clusters):\n",
    "    print('Cluster {}:'.format(i+1)),\n",
    "    for ind in order_centroids[i, :10]:\n",
    "        print(' -{}'.format(terms[ind])),\n",
    "    print"
   ]
  },
  {
   "cell_type": "markdown",
   "metadata": {},
   "source": [
    "### Add Cluster back into the dataframe"
   ]
  },
  {
   "cell_type": "code",
   "execution_count": 19,
   "metadata": {},
   "outputs": [],
   "source": [
    "df_cluster = pd.concat([df, pd.DataFrame({'Cluster': km.labels_})], axis=1)"
   ]
  },
  {
   "cell_type": "code",
   "execution_count": 21,
   "metadata": {},
   "outputs": [],
   "source": [
    "df_cluster.drop(columns='Unnamed: 0', inplace=True)"
   ]
  },
  {
   "cell_type": "code",
   "execution_count": null,
   "metadata": {},
   "outputs": [],
   "source": []
  }
 ],
 "metadata": {
  "kernelspec": {
   "display_name": "Python 3",
   "language": "python",
   "name": "python3"
  },
  "language_info": {
   "codemirror_mode": {
    "name": "ipython",
    "version": 3
   },
   "file_extension": ".py",
   "mimetype": "text/x-python",
   "name": "python",
   "nbconvert_exporter": "python",
   "pygments_lexer": "ipython3",
   "version": "3.6.4"
  }
 },
 "nbformat": 4,
 "nbformat_minor": 2
}
