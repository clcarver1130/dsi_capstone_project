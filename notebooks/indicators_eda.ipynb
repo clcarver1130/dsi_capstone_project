{
 "cells": [
  {
   "cell_type": "markdown",
   "metadata": {},
   "source": [
    "### Load and Clean Data"
   ]
  },
  {
   "cell_type": "code",
   "execution_count": 1,
   "metadata": {},
   "outputs": [],
   "source": [
    "# Import libraries\n",
    "import pandas as pd\n",
    "import numpy as np\n",
    "import matplotlib.pyplot as plt\n",
    "plt.style.use('seaborn-white')\n",
    "\n",
    "from sklearn.model_selection import train_test_split\n",
    "from sklearn.tree import DecisionTreeClassifier\n",
    "from sklearn.linear_model.logistic import LogisticRegression\n",
    "from sklearn.ensemble import RandomForestClassifier, GradientBoostingClassifier\n",
    "from sklearn.neighbors import KNeighborsClassifier\n",
    "from sklearn.metrics import roc_curve, accuracy_score, precision_score, recall_score, f1_score, confusion_matrix"
   ]
  },
  {
   "cell_type": "code",
   "execution_count": 2,
   "metadata": {},
   "outputs": [],
   "source": [
    "# Create function to convert colors: rgb_colors\n",
    "def rgb_color(r,g,b):\n",
    "    r = r/255.\n",
    "    g = g/255.\n",
    "    b = b/255.\n",
    "    return(r,g,b)\n",
    "\n",
    "# Create colors:\n",
    "tableau_blue = rgb_color(31,119,180)\n",
    "tableau_grey = rgb_color(127,127,127)\n",
    "tableau_light = rgb_color(162,162,162)"
   ]
  },
  {
   "cell_type": "code",
   "execution_count": 15,
   "metadata": {},
   "outputs": [],
   "source": [
    "df = pd.read_csv('https://s3.amazonaws.com/clcarverloans/data/df_indicators.csv')"
   ]
  },
  {
   "cell_type": "code",
   "execution_count": 16,
   "metadata": {},
   "outputs": [],
   "source": [
    "df.drop(columns=['Unnamed: 0', 'Unnamed: 0.1'], inplace=True)"
   ]
  },
  {
   "cell_type": "markdown",
   "metadata": {},
   "source": [
    "### EDA"
   ]
  },
  {
   "cell_type": "code",
   "execution_count": 7,
   "metadata": {},
   "outputs": [
    {
     "data": {
      "text/plain": [
       "Delinquent                       1.000000\n",
       "Lender_Term                      0.026250\n",
       "Loan Amount                      0.013149\n",
       "contribution_living              0.005025\n",
       "contribution_health              0.004648\n",
       "Id                               0.003649\n",
       "mpi_headcount_percent            0.001736\n",
       "poverty_national                 0.001598\n",
       "mpi_index                        0.000844\n",
       "Cluster                         -0.000838\n",
       "poverty_international ($1.90)   -0.004419\n",
       "mpi_intensity                   -0.005834\n",
       "contribution_education          -0.011012\n",
       "Name: Delinquent, dtype: float64"
      ]
     },
     "execution_count": 7,
     "metadata": {},
     "output_type": "execute_result"
    }
   ],
   "source": [
    "corr_matrix = df.corr()\n",
    "corr_matrix['Delinquent'].sort_values(ascending=False)"
   ]
  },
  {
   "cell_type": "markdown",
   "metadata": {},
   "source": [
    "### Model Testing"
   ]
  },
  {
   "cell_type": "code",
   "execution_count": 17,
   "metadata": {},
   "outputs": [],
   "source": [
    "# Remove usesless rows: df_select\n",
    "df.drop(columns=['Id', 'Funded Date', 'Country Code','Use'], inplace=True)\n",
    "\n",
    "# One_hot_encode categorical columns: df_dummies\n",
    "df_dummies = pd.get_dummies(df)\n",
    "\n",
    "# Select features and target: X, y\n",
    "y = df_dummies.pop('Delinquent')\n",
    "X = df_dummies\n",
    "\n",
    "# Split data into train and test set: train_set, test_set\n",
    "X_train, X_test, y_train, y_test = train_test_split(X, y, test_size=0.2, random_state=42)"
   ]
  },
  {
   "cell_type": "code",
   "execution_count": 18,
   "metadata": {},
   "outputs": [],
   "source": [
    "# Create a list of models to test\n",
    "model_list = [DecisionTreeClassifier(class_weight={0:1, 1:24}), KNeighborsClassifier(), LogisticRegression(class_weight={0:1, 1:24}), RandomForestClassifier(class_weight={0:1, 1:24}), GradientBoostingClassifier()]"
   ]
  },
  {
   "cell_type": "code",
   "execution_count": 19,
   "metadata": {},
   "outputs": [],
   "source": [
    "# Build function to score each model: model_scoree\n",
    "def model_score(model, X_train, X_test, y_train, y_test, sub_plot, i):\n",
    "    model.fit(X_train, y_train)\n",
    "    y_pred_prob = model.predict_proba(X_test)[:, 1]\n",
    "    fpr, tpr, thresholds = roc_curve(y_test, y_pred_prob)\n",
    "    y_pred = model.predict(X_test)\n",
    "    \n",
    "    CM = confusion_matrix(y_test, y_pred)\n",
    "    TN = CM[0][0]\n",
    "    FN = CM[1][0]\n",
    "    TP = CM[1][1]\n",
    "    FP = CM[0][1]\n",
    "    \n",
    "    plt.subplot(2,3,i+1)\n",
    "    plt.subplots_adjust(hspace=0.5, wspace=0.3)\n",
    "    plt.plot(fpr, tpr, color=tableau_blue, linewidth=2)\n",
    "    plt.title(model.__class__.__name__, fontsize=8)\n",
    "    plt.text(0.2, 0.5, ('FPR : {}'.format(round(FP/(FP+TN), 3))), fontsize=8)\n",
    "    plt.text(0.2, 0.3, (\"Recall : {}\".format(round(recall_score(y_test, y_pred), 3))), fontsize=8)"
   ]
  },
  {
   "cell_type": "code",
   "execution_count": null,
   "metadata": {},
   "outputs": [],
   "source": [
    "plt.figure(figsize=(8,12))\n",
    "sub_plot = plt.subplots(2,3, sharex=True, sharey=True)\n",
    "for i, model in enumerate(model_list):\n",
    "    model_score(model, X_train, X_test, y_train, y_test, sub_plot, i)\n",
    "plt.show()"
   ]
  }
 ],
 "metadata": {
  "kernelspec": {
   "display_name": "Python 3",
   "language": "python",
   "name": "python3"
  },
  "language_info": {
   "codemirror_mode": {
    "name": "ipython",
    "version": 3
   },
   "file_extension": ".py",
   "mimetype": "text/x-python",
   "name": "python",
   "nbconvert_exporter": "python",
   "pygments_lexer": "ipython3",
   "version": "3.6.4"
  }
 },
 "nbformat": 4,
 "nbformat_minor": 2
}
