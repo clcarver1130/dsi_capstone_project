{
 "cells": [
  {
   "cell_type": "markdown",
   "metadata": {},
   "source": [
    "### Load and Prepare Data"
   ]
  },
  {
   "cell_type": "code",
   "execution_count": 1,
   "metadata": {},
   "outputs": [],
   "source": [
    "# Import libraries\n",
    "import pandas as pd\n",
    "import matplotlib.pyplot as plt\n",
    "import numpy as np"
   ]
  },
  {
   "cell_type": "code",
   "execution_count": 2,
   "metadata": {},
   "outputs": [],
   "source": [
    "# Load in data: df\n",
    "df = pd.read_csv('https://s3.amazonaws.com/clcarverloans/data/df_cleaned.csv')"
   ]
  },
  {
   "cell_type": "code",
   "execution_count": 3,
   "metadata": {},
   "outputs": [],
   "source": [
    "# Remove usesless rows: df_select\n",
    "cols = ['Borrower_Genders', 'Country Code', 'Loan Amount', 'Lender_Term',\n",
    "       'Repayment_Interval', 'Distribution_Model', 'Sector', 'Activity','Delinquent']\n",
    "df_select = df[cols]\n",
    "\n",
    "# One_hot_encode categorical columns: df_dummies\n",
    "df_dummies = pd.get_dummies(df_select)\n",
    "\n",
    "# Select features and target: X, y\n",
    "y = df_dummies.pop('Delinquent')\n",
    "X = df_dummies"
   ]
  },
  {
   "cell_type": "code",
   "execution_count": 4,
   "metadata": {},
   "outputs": [],
   "source": [
    "# Split data into train and test set: X_train, X_test, y_train, y_test\n",
    "from sklearn.model_selection import train_test_split\n",
    "X_train, X_test, y_train, y_test = train_test_split(X, y, test_size=0.2, random_state=42)"
   ]
  },
  {
   "cell_type": "markdown",
   "metadata": {},
   "source": [
    "### Create Trade-off Metric"
   ]
  },
  {
   "cell_type": "markdown",
   "metadata": {},
   "source": [
    "First off, we should know what the average principal per loan is"
   ]
  },
  {
   "cell_type": "code",
   "execution_count": 5,
   "metadata": {},
   "outputs": [
    {
     "name": "stdout",
     "output_type": "stream",
     "text": [
      "Average Loan Size is: $ 770.9566877046869\n"
     ]
    }
   ],
   "source": [
    "average_loan_amount = df['Loan Amount'].mean()\n",
    "print('Average Loan Size is: $', average_loan_amount)"
   ]
  },
  {
   "cell_type": "markdown",
   "metadata": {},
   "source": [
    "Next, we should know average interest rate of the loan. According to Kiva's Q&A section the field partners charge around 36%"
   ]
  },
  {
   "cell_type": "code",
   "execution_count": 6,
   "metadata": {},
   "outputs": [
    {
     "name": "stdout",
     "output_type": "stream",
     "text": [
      "Average Interest Rate: 36%\n"
     ]
    }
   ],
   "source": [
    "average_interest_rate = 0.36\n",
    "print('Average Interest Rate: {}%'.format(int(average_interest_rate*100)))"
   ]
  },
  {
   "cell_type": "code",
   "execution_count": 7,
   "metadata": {},
   "outputs": [
    {
     "name": "stdout",
     "output_type": "stream",
     "text": [
      "Average Profit Per Loan: $ 277.5444075736873\n"
     ]
    }
   ],
   "source": [
    "average_profit = average_loan_amount * average_interest_rate\n",
    "print('Average Profit Per Loan: $', average_profit)"
   ]
  },
  {
   "cell_type": "markdown",
   "metadata": {},
   "source": [
    "This means, on average, the banks make around $278 dollars per loan. The resulting cost benefit matrix would look like so:"
   ]
  },
  {
   "cell_type": "markdown",
   "metadata": {},
   "source": [
    "TP = 0, FP = -278, FN = -770, TN = +278"
   ]
  },
  {
   "cell_type": "markdown",
   "metadata": {},
   "source": [
    "### Create Functions to Create Profit Curve"
   ]
  },
  {
   "cell_type": "code",
   "execution_count": 11,
   "metadata": {},
   "outputs": [],
   "source": [
    "from sklearn.metrics import confusion_matrix\n",
    "\n",
    "# Create a function that returns an array of the profits at each threshold: profit_curve\n",
    "def profit_curve(cost_benefit, predicted_probs, labels):\n",
    "    \n",
    "    # Sort the probabilities: sorted_probs\n",
    "    sorted_probs = np.sort(predicted_probs)\n",
    "    \n",
    "    # Sort the labels: sorted_labels\n",
    "    sorted_labels = labels.reset_index().iloc[np.argsort(predicted_probs)]['Delinquent']\n",
    "    \n",
    "    # Make predictions at each threshold level: y_predictions\n",
    "    y_predictions = [] # List of a list of predictions\n",
    "    for i in range(len(sorted_probs)):\n",
    "            y_predictions.append((sorted_probs >= sorted_probs[i]))\n",
    "           \n",
    "    # Calculate profit for each confusion matrix: profit_list\n",
    "    profit_list = []\n",
    "    for y_pred in y_predictions:\n",
    "        conf_matrix = confusion_matrix(sorted_labels, y_pred)\n",
    "        value_matrix = np.dot(conf_matrix, cost_benefit)\n",
    "        profit_list.append(np.sum(value_matrix)/(len(labels)))  # Profit at single threshold added to profit_list  \n",
    "    \n",
    "    # Return an array of the profits at each threshold\n",
    "    return profit_list"
   ]
  },
  {
   "cell_type": "code",
   "execution_count": 12,
   "metadata": {},
   "outputs": [],
   "source": [
    "# Build a function that plots our profit curve: plot_profit_curve\n",
    "def plot_profit_curve(model, cost_benefit, X_train, X_test, y_train, y_test):\n",
    "    md = model\n",
    "    md.fit(X_train, y_train)\n",
    "    probs = md.predict_proba(X_test)[:,1]\n",
    "    profits = profit_curve(cost_benefit, probs, y_test)\n",
    "    percentages = np.arange(0, 100, 100. / len(profits))\n",
    "    ax = plt.plot(percentages, profits)\n",
    "    plt.title(\"Profit Curve\")\n",
    "    plt.ylabel(\"Profit\")\n",
    "    plt.show()"
   ]
  },
  {
   "cell_type": "code",
   "execution_count": 13,
   "metadata": {},
   "outputs": [],
   "source": [
    "cost_benefit_matrix = np.array([[average_profit, -average_profit], [-average_loan_amount, 0]])"
   ]
  },
  {
   "cell_type": "code",
   "execution_count": 22,
   "metadata": {},
   "outputs": [],
   "source": [
    "from sklearn.linear_model.logistic import LogisticRegression\n",
    "logreg = LogisticRegression()"
   ]
  },
  {
   "cell_type": "code",
   "execution_count": 23,
   "metadata": {
    "scrolled": false
   },
   "outputs": [
    {
     "data": {
      "image/png": "[encoded data removed]",
      "text/plain": [
       "<matplotlib.figure.Figure at 0x7f24d30815c0>"
      ]
     },
     "metadata": {},
     "output_type": "display_data"
    }
   ],
   "source": [
    "plot_profit_curve(logreg, cost_benefit_matrix, X_train, X_test, y_train, y_test)"
   ]
  },
  {
   "cell_type": "markdown",
   "metadata": {},
   "source": [
    "___"
   ]
  },
  {
   "cell_type": "code",
   "execution_count": 26,
   "metadata": {},
   "outputs": [],
   "source": [
    "from sklearn.metrics import roc_curve\n",
    "\n",
    "# Create a function that returns an array of the number of borrowers blocked at each threshold: trade_off_curve\n",
    "def trade_off_curve(model, X_train, X_test, y_train, y_test):\n",
    "    md = model.fit(X_train, y_train)\n",
    "    y_pred_prob = model.predict_proba(X_test)[:, 1]\n",
    "    tpr, fpr, thresholds = roc_curve(y_test, y_pred_prob)\n",
    "    plt.plot(fpr, tpr)\n",
    "    plt.xlabel('% of Good Borrowers Blocked')\n",
    "    plt.ylabel('% of Defaulters Blocked')"
   ]
  },
  {
   "cell_type": "code",
   "execution_count": 27,
   "metadata": {},
   "outputs": [
    {
     "data": {
      "image/png": "[encoded data removed]",
      "text/plain": [
       "<matplotlib.figure.Figure at 0x7f24d33e5ba8>"
      ]
     },
     "metadata": {},
     "output_type": "display_data"
    }
   ],
   "source": [
    "trade_off_curve(logreg, X_train, X_test, y_train, y_test)"
   ]
  },
  {
   "cell_type": "code",
   "execution_count": null,
   "metadata": {},
   "outputs": [],
   "source": []
  }
 ],
 "metadata": {
  "kernelspec": {
   "display_name": "Python 3",
   "language": "python",
   "name": "python3"
  },
  "language_info": {
   "codemirror_mode": {
    "name": "ipython",
    "version": 3
   },
   "file_extension": ".py",
   "mimetype": "text/x-python",
   "name": "python",
   "nbconvert_exporter": "python",
   "pygments_lexer": "ipython3",
   "version": "3.6.4"
  }
 },
 "nbformat": 4,
 "nbformat_minor": 2
}
