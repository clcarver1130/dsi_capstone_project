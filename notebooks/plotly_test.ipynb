{
 "cells": [
  {
   "cell_type": "code",
   "execution_count": 86,
   "metadata": {},
   "outputs": [],
   "source": [
    "import pandas as pd\n",
    "import plotly as py\n",
    "import numpy as np\n",
    "py.tools.set_credentials_file(username='clcarver', api_key='IsOMdkWRhw3WZouQQO9S')"
   ]
  },
  {
   "cell_type": "code",
   "execution_count": 184,
   "metadata": {},
   "outputs": [],
   "source": [
    "# Load in codes: df_codes\n",
    "df_codes = pd.read_csv('../country_codes.csv')"
   ]
  },
  {
   "cell_type": "code",
   "execution_count": 185,
   "metadata": {},
   "outputs": [],
   "source": [
    "# Load in data: df\n",
    "df_clean = pd.read_csv('https://s3.amazonaws.com/clcarverloans/data/df_cleaned.csv')"
   ]
  },
  {
   "cell_type": "code",
   "execution_count": 186,
   "metadata": {},
   "outputs": [],
   "source": [
    "default_by_country = pd.DataFrame(df_clean.groupby('Country Code').sum()['Delinquent']/df_clean.groupby('Country Code').count()['Delinquent']).sort_values('Delinquent')"
   ]
  },
  {
   "cell_type": "code",
   "execution_count": 188,
   "metadata": {},
   "outputs": [],
   "source": [
    "# Add in 3 digit codes and add missing countries\n",
    "df_merged = default_by_country.merge(df_codes, how='outer', left_index=True, right_on='Code_2')"
   ]
  },
  {
   "cell_type": "code",
   "execution_count": 189,
   "metadata": {},
   "outputs": [],
   "source": [
    "df_merged['Delinquent'].fillna(0, inplace=True)"
   ]
  },
  {
   "cell_type": "code",
   "execution_count": 190,
   "metadata": {},
   "outputs": [],
   "source": [
    "df_merged['Delinquent'] = round((df_merged['Delinquent']*100), 2)"
   ]
  },
  {
   "cell_type": "code",
   "execution_count": 198,
   "metadata": {},
   "outputs": [
    {
     "data": {
      "text/html": [
       "<iframe id=\"igraph\" scrolling=\"no\" style=\"border:none;\" seamless=\"seamless\" src=\"https://plot.ly/~clcarver/12.embed\" height=\"525px\" width=\"100%\"></iframe>"
      ],
      "text/plain": [
       "<plotly.tools.PlotlyDisplay object>"
      ]
     },
     "execution_count": 198,
     "metadata": {},
     "output_type": "execute_result"
    }
   ],
   "source": [
    "data = [ dict(\n",
    "        type = 'choropleth',\n",
    "        locations = df_merged['Code_3'],\n",
    "        z = df_merged['Delinquent'],\n",
    "        text = df_merged['Country'],\n",
    "        colorscale = [[0,\"rgb(204,208,210)\"],[0.01,\"rgb(139,194,224)\"],[0.15,\"rgb(66,134,244)\"],\\\n",
    "            [0.25,\"rgb(87,132,196)\"],[0.45,\"rgb(86,130,151)\"],[1,\"rgb(38,61,86)\"]],\n",
    "        autocolorscale = False,\n",
    "        reversescale = False,\n",
    "        marker = dict(\n",
    "            line = dict (\n",
    "                color = 'rgb(180,180,180)',\n",
    "                width = 0.5\n",
    "            ) ),\n",
    "        colorbar = dict(\n",
    "            autotick = True,\n",
    "            ticksuffix = '%',\n",
    "            title = 'Default Rates'),\n",
    "      ) ]\n",
    "\n",
    "layout = dict(\n",
    "    title = '2010 Microfinance Default Rates',\n",
    "    geo = dict(\n",
    "        showframe = False,\n",
    "        showcoastlines = False,\n",
    "        projection = dict(\n",
    "            type = 'Mercator'\n",
    "        )\n",
    "    )\n",
    ")\n",
    "\n",
    "fig = dict( data=data, layout=layout )\n",
    "py.plotly.iplot( fig, validate=False, filename='default_rate_by_country' )"
   ]
  },
  {
   "cell_type": "code",
   "execution_count": null,
   "metadata": {},
   "outputs": [],
   "source": []
  }
 ],
 "metadata": {
  "kernelspec": {
   "display_name": "Python 3",
   "language": "python",
   "name": "python3"
  },
  "language_info": {
   "codemirror_mode": {
    "name": "ipython",
    "version": 3
   },
   "file_extension": ".py",
   "mimetype": "text/x-python",
   "name": "python",
   "nbconvert_exporter": "python",
   "pygments_lexer": "ipython3",
   "version": "3.6.4"
  }
 },
 "nbformat": 4,
 "nbformat_minor": 2
}
