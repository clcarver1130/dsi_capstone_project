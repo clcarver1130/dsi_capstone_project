{
 "cells": [
  {
   "cell_type": "markdown",
   "metadata": {},
   "source": [
    "### Load and Prepare Data"
   ]
  },
  {
   "cell_type": "code",
   "execution_count": 1,
   "metadata": {},
   "outputs": [],
   "source": [
    "# Import libraries\n",
    "import pandas as pd\n",
    "import matplotlib.pyplot as plt\n",
    "import numpy as np\n",
    "\n",
    "from sklearn.metrics import confusion_matrix\n",
    "from sklearn.model_selection import train_test_split"
   ]
  },
  {
   "cell_type": "code",
   "execution_count": 2,
   "metadata": {},
   "outputs": [],
   "source": [
    "# Load in data: df\n",
    "df = pd.read_csv('https://s3.amazonaws.com/clcarverloans/data/df_cleaned.csv')"
   ]
  },
  {
   "cell_type": "code",
   "execution_count": 3,
   "metadata": {},
   "outputs": [],
   "source": [
    "# Remove usesless rows: df_select\n",
    "cols = ['Borrower_Genders', 'Country Code', 'Loan Amount', 'Lender_Term',\n",
    "       'Repayment_Interval', 'Distribution_Model', 'Sector', 'Activity','Delinquent']\n",
    "df_select = df[cols]\n",
    "\n",
    "# One_hot_encode categorical columns: df_dummies\n",
    "df_dummies = pd.get_dummies(df_select)\n",
    "\n",
    "# Select features and target: X, y\n",
    "y = df_dummies.pop('Delinquent')\n",
    "X = df_dummies"
   ]
  },
  {
   "cell_type": "code",
   "execution_count": 4,
   "metadata": {},
   "outputs": [],
   "source": [
    "# Split data into train and test set: X_train, X_test, y_train, y_test\n",
    "X_train, X_test, y_train, y_test = train_test_split(X, y, test_size=0.2, random_state=42)"
   ]
  },
  {
   "cell_type": "markdown",
   "metadata": {},
   "source": [
    "____"
   ]
  },
  {
   "cell_type": "markdown",
   "metadata": {},
   "source": [
    "# Create Trade-off Metric"
   ]
  },
  {
   "cell_type": "markdown",
   "metadata": {},
   "source": [
    "### Calculate Averages"
   ]
  },
  {
   "cell_type": "markdown",
   "metadata": {},
   "source": [
    "First off, we should know what the average principal per loan is"
   ]
  },
  {
   "cell_type": "code",
   "execution_count": 5,
   "metadata": {},
   "outputs": [
    {
     "name": "stdout",
     "output_type": "stream",
     "text": [
      "Average Loan Size is: $ 770.9566877046869\n"
     ]
    }
   ],
   "source": [
    "average_loan_amount = df['Loan Amount'].mean()\n",
    "print('Average Loan Size is: $', average_loan_amount)"
   ]
  },
  {
   "cell_type": "markdown",
   "metadata": {},
   "source": [
    "Next, we should know average interest rate of the loan. According to Kiva's Q&A section the field partners charge around 36%"
   ]
  },
  {
   "cell_type": "code",
   "execution_count": 6,
   "metadata": {},
   "outputs": [
    {
     "name": "stdout",
     "output_type": "stream",
     "text": [
      "Average Interest Rate: 36%\n"
     ]
    }
   ],
   "source": [
    "average_interest_rate = 0.36\n",
    "print('Average Interest Rate: {}%'.format(int(average_interest_rate*100)))"
   ]
  },
  {
   "cell_type": "code",
   "execution_count": 7,
   "metadata": {},
   "outputs": [
    {
     "name": "stdout",
     "output_type": "stream",
     "text": [
      "Average Profit Per Loan: $ 277.5444075736873\n"
     ]
    }
   ],
   "source": [
    "average_profit = average_loan_amount * average_interest_rate\n",
    "print('Average Profit Per Loan: $', average_profit)"
   ]
  },
  {
   "cell_type": "code",
   "execution_count": 14,
   "metadata": {},
   "outputs": [],
   "source": [
    "cost_benefit_matrix = np.array([[0, -average_profit], [-average_loan_amount, 0]])"
   ]
  },
  {
   "cell_type": "markdown",
   "metadata": {},
   "source": [
    "This means, on average, the banks make around $278 dollars per loan. The resulting cost benefit matrix would look like so:"
   ]
  },
  {
   "cell_type": "markdown",
   "metadata": {},
   "source": [
    "TP = 0, FP = -278, FN = -770, TN = +278"
   ]
  },
  {
   "cell_type": "markdown",
   "metadata": {},
   "source": [
    "### Create Functions to Create Profit Curve"
   ]
  },
  {
   "cell_type": "code",
   "execution_count": 33,
   "metadata": {},
   "outputs": [],
   "source": [
    "# Create a function that returns an array of the profits at each threshold: profit_curve\n",
    "def profit_curve(cost_benefit, predicted_probs, labels):\n",
    "    \n",
    "    labels = labels.values\n",
    "    \n",
    "    # Sort the probabilities: sorted_probs\n",
    "    sorted_probs = np.sort(predicted_probs)\n",
    "    \n",
    "    # Sort the labels: sorted_labels\n",
    "    sorted_labels =  labels[np.argsort(sorted_probs)]#labels.reset_index().iloc[np.argsort(predicted_probs)]['Delinquent']\n",
    "    \n",
    "    # Make predictions at each threshold level: y_predictions\n",
    "    y_predictions = [] # List of a list of predictions\n",
    "    #y_predictions.append((0, np.zeros(sorted_labels.shape)))\n",
    "    \n",
    "    for proba in np.unique(np.round(sorted_probs,3)):\n",
    "        temp = np.zeros(labels.shape)\n",
    "        temp[predicted_probs >= proba] = 1 # Append the predictions at each threshold\n",
    "        y_predictions.append((proba, temp)) \n",
    "            #y_predictions.append((sorted_probs[i], (sorted_probs >= sorted_probs[i]))) # Append the predictions at each threshold\n",
    "           \n",
    "    # Calculate profit for each confusion matrix: profit_list\n",
    "    profit_list = []\n",
    "    for prob, y_pred in y_predictions: # For the predictions at each threshold\n",
    "        conf_matrix = confusion_matrix(sorted_labels, y_pred) # Create a confusion matrix\n",
    "        conf_matrix_norm = conf_matrix/(np.sum(conf_matrix)) # Divide it by the total number of data points\n",
    "        value_matrix = np.multiply(conf_matrix_norm, cost_benefit) # Multiply it by the cost_benefit matrix\n",
    "        profit = np.sum(value_matrix) # Sum it for the total profit\n",
    "       #import pdb; pdb.set_trace()\n",
    "        profit_list.append(profit)  # Profit at single threshold added to profit_list  \n",
    "    \n",
    "    # Return an array of the profits at each threshold\n",
    "    return profit_list"
   ]
  },
  {
   "cell_type": "code",
   "execution_count": 34,
   "metadata": {},
   "outputs": [],
   "source": [
    "# Build a function that plots our profit curve: plot_profit_curve\n",
    "def plot_profit_curve(model, cost_benefit, X_train, X_test, y_train, y_test):\n",
    "    #model.fit(X_train, y_train) # Fit the model\n",
    "    probs = model.predict_proba(X_test)[:,1] # Compute probabilities for each data point\n",
    "    profits = profit_curve(cost_benefit, probs, y_test) # Find profits at each probability threshold\n",
    "    percentages = np.arange(0, 100, 100. / len(profits))\n",
    "    ax = plt.plot(percentages, profits) # Plot profits\n",
    "    plt.title(\"Profit Curve\")\n",
    "    plt.ylabel(\"Profit\")\n",
    "    plt.show()"
   ]
  },
  {
   "cell_type": "code",
   "execution_count": 35,
   "metadata": {},
   "outputs": [
    {
     "data": {
      "image/png": "[encoded data removed]",
      "text/plain": [
       "<matplotlib.figure.Figure at 0x7fde98cfa748>"
      ]
     },
     "metadata": {},
     "output_type": "display_data"
    }
   ],
   "source": [
    "plot_profit_curve(rf, cost_benefit_matrix, X_train, X_test, y_train, y_test)"
   ]
  },
  {
   "cell_type": "code",
   "execution_count": 105,
   "metadata": {},
   "outputs": [
    {
     "name": "stdout",
     "output_type": "stream",
     "text": [
      "[[   0.           -0.        ]\n",
      " [-385.47834385    0.        ]]\n",
      "[[   0.         -138.77220379]\n",
      " [  -0.            0.        ]]\n",
      "[[  0.         -69.38610189]\n",
      " [ -0.           0.        ]]\n",
      "[[   0.          -69.38610189]\n",
      " [-192.73917193    0.        ]]\n",
      "[[   0.           -0.        ]\n",
      " [-192.73917193    0.        ]]\n"
     ]
    },
    {
     "data": {
      "image/png": "[encoded data removed]",
      "text/plain": [
       "<matplotlib.figure.Figure at 0x7f99c5ab15f8>"
      ]
     },
     "metadata": {},
     "output_type": "display_data"
    },
    {
     "name": "stdout",
     "output_type": "stream",
     "text": [
      "[  0.  25.  50.  75. 100.] [-385.47834385234347, -138.77220378684365, -69.38610189342182, -262.12527381959353, -192.73917192617174]\n"
     ]
    }
   ],
   "source": [
    "blah = np.sort(probs)\n",
    "\n",
    "b2 = y_testing[np.argsort(probs)]\n",
    "\n",
    "# Make predictions at each threshold level: y_predictions\n",
    "y_predictions = [] # List of a list of predictions\n",
    "y_predictions.append(np.zeros(blah.shape))\n",
    "\n",
    "for prob in blah:\n",
    "    temp = np.zeros(blah.shape)\n",
    "    temp[blah >= prob] = 1 # Append the predictions at each threshold\n",
    "    y_predictions.append(temp) \n",
    "    \n",
    "# Calculate profit for each confusion matrix: profit_list\n",
    "profit_list = []\n",
    "for y_pred in y_predictions: # For the predictions at each threshold\n",
    "    conf_matrix = confusion_matrix(b2, y_pred) # Create a confusion matrix\n",
    "    conf_matrix_norm = conf_matrix/(np.sum(conf_matrix)) # Divide it by the total number of data points\n",
    "    value_matrix = np.multiply(conf_matrix_norm, cost_benefit_matrix) # Multiply it by the cost_benefit matrix\n",
    "    print(value_matrix)\n",
    "    profit = np.sum(value_matrix) # Sum it for the total profit\n",
    "    profit_list.append(profit)  # Profit at single threshold added to profit_list \n",
    "\n",
    "percentages = np.linspace(0, 100, num= len(profit_list))\n",
    "ax = plt.plot(percentages, profit_list) # Plot profits\n",
    "plt.title(\"Profit Curve\")\n",
    "plt.ylabel(\"Profit\")\n",
    "plt.show()\n",
    "\n",
    "print(percentages, profit_list)\n"
   ]
  },
  {
   "cell_type": "code",
   "execution_count": 63,
   "metadata": {},
   "outputs": [],
   "source": [
    "# Build a function that plots our profit curve: plot_profit_curve\n",
    "def plot_profit_curve(model, cost_benefit, X_train, X_test, y_train, y_test):\n",
    "    model.fit(X_train, y_train) # Fit the model\n",
    "    probs = model.predict_proba(X_test)[:,1] # Compute probabilities for each data point\n",
    "    profits = profit_curve(cost_benefit, probs, y_test) # Find profits at each probability threshold\n",
    "    percentages = np.arange(0, 100, 100. / len(profits))\n",
    "    ax = plt.plot(percentages, profits) # Plot profits\n",
    "    plt.title(\"Profit Curve\")\n",
    "    plt.ylabel(\"Profit\")\n",
    "    plt.show()"
   ]
  },
  {
   "cell_type": "code",
   "execution_count": 60,
   "metadata": {},
   "outputs": [
    {
     "data": {
      "text/plain": [
       "770.9566877046869"
      ]
     },
     "execution_count": 60,
     "metadata": {},
     "output_type": "execute_result"
    }
   ],
   "source": [
    "average_loan_amount"
   ]
  },
  {
   "cell_type": "code",
   "execution_count": 57,
   "metadata": {},
   "outputs": [],
   "source": [
    "cost_benefit_matrix = np.array([[0, -average_profit], [-average_loan_amount, 0]])"
   ]
  },
  {
   "cell_type": "code",
   "execution_count": 69,
   "metadata": {},
   "outputs": [
    {
     "name": "stdout",
     "output_type": "stream",
     "text": [
      "[[   0.         -277.54440757]\n",
      " [-770.9566877     0.        ]]\n"
     ]
    }
   ],
   "source": [
    "print(cost_benefit_matrix)"
   ]
  },
  {
   "cell_type": "code",
   "execution_count": 12,
   "metadata": {},
   "outputs": [
    {
     "data": {
      "text/plain": [
       "RandomForestClassifier(bootstrap=True, class_weight=None, criterion='gini',\n",
       "            max_depth=None, max_features='auto', max_leaf_nodes=None,\n",
       "            min_impurity_decrease=0.0, min_impurity_split=None,\n",
       "            min_samples_leaf=1, min_samples_split=2,\n",
       "            min_weight_fraction_leaf=0.0, n_estimators=10, n_jobs=1,\n",
       "            oob_score=False, random_state=None, verbose=0,\n",
       "            warm_start=False)"
      ]
     },
     "execution_count": 12,
     "metadata": {},
     "output_type": "execute_result"
    }
   ],
   "source": [
    "from sklearn.ensemble import RandomForestClassifier\n",
    "rf = RandomForestClassifier()\n",
    "rf.fit(X_train, y_train)"
   ]
  },
  {
   "cell_type": "code",
   "execution_count": 70,
   "metadata": {},
   "outputs": [
    {
     "data": {
      "text/plain": [
       "-25.487"
      ]
     },
     "execution_count": 70,
     "metadata": {},
     "output_type": "execute_result"
    }
   ],
   "source": [
    ".0331 * -770"
   ]
  },
  {
   "cell_type": "code",
   "execution_count": 27,
   "metadata": {},
   "outputs": [],
   "source": [
    "rfprobs = rf.predict_proba(X_test)[:,1]\n",
    "\n",
    "preds = np.zeros(rfprobs.shape)\n",
    "\n",
    "preds[rfprobs > .7] = 1\n"
   ]
  },
  {
   "cell_type": "code",
   "execution_count": 29,
   "metadata": {},
   "outputs": [
    {
     "data": {
      "text/plain": [
       "137"
      ]
     },
     "execution_count": 29,
     "metadata": {},
     "output_type": "execute_result"
    }
   ],
   "source": [
    "len(np.unique(np.round(rfprobs,3)))"
   ]
  },
  {
   "cell_type": "code",
   "execution_count": 102,
   "metadata": {},
   "outputs": [
    {
     "name": "stdout",
     "output_type": "stream",
     "text": [
      "[[0.96437673 0.00249417]\n",
      " [0.01377216 0.01935694]]\n"
     ]
    },
    {
     "data": {
      "text/plain": [
       "array([[  0.        ,  -0.69224328],\n",
       "       [-10.61774108,   0.        ]])"
      ]
     },
     "execution_count": 102,
     "metadata": {},
     "output_type": "execute_result"
    }
   ],
   "source": [
    "c1 = confusion_matrix(y_test, preds) / len(y_test)\n",
    "print(c1)\n",
    "\n",
    "np.multiply(c1, cost_benefit_matrix)"
   ]
  },
  {
   "cell_type": "code",
   "execution_count": 68,
   "metadata": {},
   "outputs": [
    {
     "data": {
      "text/plain": [
       "-471081"
      ]
     },
     "execution_count": 68,
     "metadata": {},
     "output_type": "execute_result"
    }
   ],
   "source": [
    "y_test.sum() * -771"
   ]
  },
  {
   "cell_type": "markdown",
   "metadata": {},
   "source": [
    "___"
   ]
  },
  {
   "cell_type": "code",
   "execution_count": 15,
   "metadata": {},
   "outputs": [],
   "source": [
    "from sklearn.metrics import roc_curve\n",
    "\n",
    "# Create a function that returns an array of the number of borrowers blocked at each threshold: trade_off_curve\n",
    "def trade_off_curve(model, X_train, X_test, y_train, y_test):\n",
    "    model.fit(X_train, y_train)\n",
    "    y_pred_prob = model.predict_proba(X_test)[:, 1]\n",
    "    tpr, fpr, thresholds = roc_curve(y_test, y_pred_prob)\n",
    "    plt.plot(fpr, tpr)\n",
    "    plt.xlabel('% of Good Borrowers Blocked')\n",
    "    plt.ylabel('% of Defaulters Blocked')"
   ]
  },
  {
   "cell_type": "code",
   "execution_count": 16,
   "metadata": {},
   "outputs": [
    {
     "data": {
      "image/png": "[encoded data removed]",
      "text/plain": [
       "<matplotlib.figure.Figure at 0x7f99c89e0470>"
      ]
     },
     "metadata": {},
     "output_type": "display_data"
    }
   ],
   "source": [
    "trade_off_curve(logreg, X_train, X_test, y_train, y_test)"
   ]
  }
 ],
 "metadata": {
  "kernelspec": {
   "display_name": "Python 3",
   "language": "python",
   "name": "python3"
  },
  "language_info": {
   "codemirror_mode": {
    "name": "ipython",
    "version": 3
   },
   "file_extension": ".py",
   "mimetype": "text/x-python",
   "name": "python",
   "nbconvert_exporter": "python",
   "pygments_lexer": "ipython3",
   "version": "3.6.4"
  }
 },
 "nbformat": 4,
 "nbformat_minor": 2
}
