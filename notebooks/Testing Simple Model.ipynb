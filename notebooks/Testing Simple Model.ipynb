{
 "cells": [
  {
   "cell_type": "code",
   "execution_count": 2,
   "metadata": {},
   "outputs": [],
   "source": [
    "# Import libraries\n",
    "import pandas as pd\n",
    "import matplotlib.pyplot as plt\n",
    "import numpy as np"
   ]
  },
  {
   "cell_type": "markdown",
   "metadata": {},
   "source": [
    "### Load in the Data\n",
    "___"
   ]
  },
  {
   "cell_type": "code",
   "execution_count": 3,
   "metadata": {},
   "outputs": [],
   "source": [
    "# Load in data: df\n",
    "df = pd.read_csv('https://s3.amazonaws.com/clcarverloans/data/df_cleaned.csv')"
   ]
  },
  {
   "cell_type": "code",
   "execution_count": 4,
   "metadata": {},
   "outputs": [
    {
     "data": {
      "text/html": [
       "<div>\n",
       "<style scoped>\n",
       "    .dataframe tbody tr th:only-of-type {\n",
       "        vertical-align: middle;\n",
       "    }\n",
       "\n",
       "    .dataframe tbody tr th {\n",
       "        vertical-align: top;\n",
       "    }\n",
       "\n",
       "    .dataframe thead th {\n",
       "        text-align: right;\n",
       "    }\n",
       "</style>\n",
       "<table border=\"1\" class=\"dataframe\">\n",
       "  <thead>\n",
       "    <tr style=\"text-align: right;\">\n",
       "      <th></th>\n",
       "      <th>Unnamed: 0</th>\n",
       "      <th>Id</th>\n",
       "      <th>Funded Date</th>\n",
       "      <th>Borrower_Genders</th>\n",
       "      <th>Country Code</th>\n",
       "      <th>Country</th>\n",
       "      <th>Town_Name</th>\n",
       "      <th>Loan Amount</th>\n",
       "      <th>Lender_Term</th>\n",
       "      <th>Repayment_Interval</th>\n",
       "      <th>Distribution_Model</th>\n",
       "      <th>Sector</th>\n",
       "      <th>Activity</th>\n",
       "      <th>Use</th>\n",
       "      <th>Delinquent</th>\n",
       "    </tr>\n",
       "  </thead>\n",
       "  <tbody>\n",
       "    <tr>\n",
       "      <th>0</th>\n",
       "      <td>0</td>\n",
       "      <td>155661</td>\n",
       "      <td>2010-01-04T14:29:24Z</td>\n",
       "      <td>female</td>\n",
       "      <td>PH</td>\n",
       "      <td>Philippines</td>\n",
       "      <td>Dipolog-Piñan, Zamboanga del Norte</td>\n",
       "      <td>1075</td>\n",
       "      <td>7.0</td>\n",
       "      <td>monthly</td>\n",
       "      <td>field_partner</td>\n",
       "      <td>Housing</td>\n",
       "      <td>Personal Housing Expenses</td>\n",
       "      <td>To purchase construction materials and labor f...</td>\n",
       "      <td>False</td>\n",
       "    </tr>\n",
       "    <tr>\n",
       "      <th>1</th>\n",
       "      <td>1</td>\n",
       "      <td>155674</td>\n",
       "      <td>2010-01-01T19:15:17Z</td>\n",
       "      <td>male</td>\n",
       "      <td>AF</td>\n",
       "      <td>Afghanistan</td>\n",
       "      <td>Kabul Afghanistan</td>\n",
       "      <td>1075</td>\n",
       "      <td>14.0</td>\n",
       "      <td>monthly</td>\n",
       "      <td>field_partner</td>\n",
       "      <td>Construction</td>\n",
       "      <td>Construction</td>\n",
       "      <td>to buy construction materials</td>\n",
       "      <td>False</td>\n",
       "    </tr>\n",
       "    <tr>\n",
       "      <th>2</th>\n",
       "      <td>2</td>\n",
       "      <td>155677</td>\n",
       "      <td>2010-01-02T00:21:08Z</td>\n",
       "      <td>male</td>\n",
       "      <td>AF</td>\n",
       "      <td>Afghanistan</td>\n",
       "      <td>Kabul Afghanistan</td>\n",
       "      <td>1075</td>\n",
       "      <td>14.0</td>\n",
       "      <td>monthly</td>\n",
       "      <td>field_partner</td>\n",
       "      <td>Construction</td>\n",
       "      <td>Construction</td>\n",
       "      <td>to purchase construction materials</td>\n",
       "      <td>False</td>\n",
       "    </tr>\n",
       "    <tr>\n",
       "      <th>3</th>\n",
       "      <td>3</td>\n",
       "      <td>155698</td>\n",
       "      <td>2010-01-01T17:31:27Z</td>\n",
       "      <td>group</td>\n",
       "      <td>AF</td>\n",
       "      <td>Afghanistan</td>\n",
       "      <td>Kabul Afghanistan</td>\n",
       "      <td>425</td>\n",
       "      <td>10.0</td>\n",
       "      <td>monthly</td>\n",
       "      <td>field_partner</td>\n",
       "      <td>Services</td>\n",
       "      <td>Services</td>\n",
       "      <td>to expand and resupply three small businesses</td>\n",
       "      <td>False</td>\n",
       "    </tr>\n",
       "    <tr>\n",
       "      <th>4</th>\n",
       "      <td>4</td>\n",
       "      <td>155710</td>\n",
       "      <td>2010-01-01T18:16:31Z</td>\n",
       "      <td>group</td>\n",
       "      <td>AF</td>\n",
       "      <td>Afghanistan</td>\n",
       "      <td>Kabul Afghanistan</td>\n",
       "      <td>850</td>\n",
       "      <td>12.0</td>\n",
       "      <td>monthly</td>\n",
       "      <td>field_partner</td>\n",
       "      <td>Services</td>\n",
       "      <td>Services</td>\n",
       "      <td>to expand four small businesses</td>\n",
       "      <td>False</td>\n",
       "    </tr>\n",
       "  </tbody>\n",
       "</table>\n",
       "</div>"
      ],
      "text/plain": [
       "   Unnamed: 0      Id           Funded Date Borrower_Genders Country Code  \\\n",
       "0           0  155661  2010-01-04T14:29:24Z           female           PH   \n",
       "1           1  155674  2010-01-01T19:15:17Z             male           AF   \n",
       "2           2  155677  2010-01-02T00:21:08Z             male           AF   \n",
       "3           3  155698  2010-01-01T17:31:27Z            group           AF   \n",
       "4           4  155710  2010-01-01T18:16:31Z            group           AF   \n",
       "\n",
       "       Country                           Town_Name  Loan Amount  Lender_Term  \\\n",
       "0  Philippines  Dipolog-Piñan, Zamboanga del Norte         1075          7.0   \n",
       "1  Afghanistan                   Kabul Afghanistan         1075         14.0   \n",
       "2  Afghanistan                   Kabul Afghanistan         1075         14.0   \n",
       "3  Afghanistan                   Kabul Afghanistan          425         10.0   \n",
       "4  Afghanistan                   Kabul Afghanistan          850         12.0   \n",
       "\n",
       "  Repayment_Interval Distribution_Model        Sector  \\\n",
       "0            monthly      field_partner       Housing   \n",
       "1            monthly      field_partner  Construction   \n",
       "2            monthly      field_partner  Construction   \n",
       "3            monthly      field_partner      Services   \n",
       "4            monthly      field_partner      Services   \n",
       "\n",
       "                    Activity  \\\n",
       "0  Personal Housing Expenses   \n",
       "1               Construction   \n",
       "2               Construction   \n",
       "3                   Services   \n",
       "4                   Services   \n",
       "\n",
       "                                                 Use  Delinquent  \n",
       "0  To purchase construction materials and labor f...       False  \n",
       "1                      to buy construction materials       False  \n",
       "2                 to purchase construction materials       False  \n",
       "3      to expand and resupply three small businesses       False  \n",
       "4                    to expand four small businesses       False  "
      ]
     },
     "execution_count": 4,
     "metadata": {},
     "output_type": "execute_result"
    }
   ],
   "source": [
    "df.head()"
   ]
  },
  {
   "cell_type": "markdown",
   "metadata": {},
   "source": [
    "### Clean the Data\n",
    "___"
   ]
  },
  {
   "cell_type": "code",
   "execution_count": 12,
   "metadata": {},
   "outputs": [],
   "source": [
    "# Remove usesless rows: df_select\n",
    "cols = ['Borrower_Genders', 'Country Code', 'Loan Amount', 'Lender_Term',\n",
    "       'Repayment_Interval', 'Distribution_Model', 'Sector', 'Activity','Cluster','Delinquent']\n",
    "df_select = train_set[cols]\n",
    "\n",
    "# One_hot_encode categorical columns: df_dummies\n",
    "df_dummies = pd.get_dummies(df_select)\n",
    "\n",
    "# Select features and target: X, y\n",
    "y = df_dummies.pop('Delinquent')\n",
    "X = df_dummies"
   ]
  },
  {
   "cell_type": "code",
   "execution_count": 13,
   "metadata": {},
   "outputs": [],
   "source": [
    "# Split data into train and test set: train_set, test_set\n",
    "X_train, X_test, y_train, y_test = train_test_split(X, y, test_size=0.2, random_state=42)"
   ]
  },
  {
   "cell_type": "markdown",
   "metadata": {},
   "source": [
    "### Test Simple Model"
   ]
  },
  {
   "cell_type": "code",
   "execution_count": 33,
   "metadata": {},
   "outputs": [],
   "source": [
    "from sklearn.metrics import accuracy_score, precision_score, recall_score, f1_score\n",
    "\n",
    "# Build function to fit and evaluate model: eval_model\n",
    "def eval_model(model, X_train, X_test, y_train, y_test):\n",
    "    model.fit(X_train, y_train)\n",
    "    y_pred = model.predict(X_test)\n",
    "    print('Accuracy: ', accuracy_score(y_test, y_pred))\n",
    "    print ('Precision Score: ', precision_score(y_test, y_pred))\n",
    "    print ('Recall Score: ', recall_score(y_test, y_pred))\n",
    "    print ('F1 Score: ', f1_score(y_test, y_pred))\n",
    "    print('Confusion Matrix: ', confusion_matrix(y_test, y_pred))"
   ]
  },
  {
   "cell_type": "code",
   "execution_count": 34,
   "metadata": {},
   "outputs": [
    {
     "name": "stdout",
     "output_type": "stream",
     "text": [
      "Accuracy:  0.9834632328024399\n",
      "Precision Score:  0.7680180180180181\n",
      "Recall Score:  0.7074688796680498\n",
      "F1 Score:  0.736501079913607\n",
      "Confusion Matrix:  [[14170   103]\n",
      " [  141   341]]\n"
     ]
    }
   ],
   "source": [
    "# Evaluate simple Decision Tree: dt\n",
    "from sklearn.tree import DecisionTreeClassifier\n",
    "dt = DecisionTreeClassifier(random_state=5)\n",
    "eval_model(dt,  X_train, X_test, y_train, y_test)"
   ]
  },
  {
   "cell_type": "code",
   "execution_count": 35,
   "metadata": {
    "scrolled": true
   },
   "outputs": [
    {
     "data": {
      "text/plain": [
       "[(0.20238770356869887, 'Country Code_TG'),\n",
       " (0.1391011667832302, 'Borrower_Genders_group'),\n",
       " (0.12355291357294462, 'Loan Amount'),\n",
       " (0.11979989488254253, 'Lender_Term'),\n",
       " (0.05174771345812416, 'Country Code_LR'),\n",
       " (0.05081250865042287, 'Country Code_KH'),\n",
       " (0.0362987011365347, 'Country Code_TZ'),\n",
       " (0.03153361930472385, 'Country Code_AF'),\n",
       " (0.017000262462345185, 'Country Code_VN'),\n",
       " (0.014911591001821642, 'Country Code_PE')]"
      ]
     },
     "execution_count": 35,
     "metadata": {},
     "output_type": "execute_result"
    }
   ],
   "source": [
    "feature_importance = sorted(list(zip(dt.feature_importances_, X_train.columns)), reverse=True)\n",
    "feature_importance[0:10]"
   ]
  },
  {
   "cell_type": "markdown",
   "metadata": {},
   "source": [
    "### Test Other Models"
   ]
  },
  {
   "cell_type": "code",
   "execution_count": 42,
   "metadata": {},
   "outputs": [
    {
     "name": "stdout",
     "output_type": "stream",
     "text": [
      "Accuracy:  0.9806167400881057\n",
      "Precision Score:  0.6695501730103807\n",
      "Recall Score:  0.8029045643153527\n",
      "F1 Score:  0.7301886792452832\n",
      "Confusion Matrix:  [[14082   191]\n",
      " [   95   387]]\n"
     ]
    }
   ],
   "source": [
    "dt_2 = DecisionTreeClassifier(class_weight={0:1, 1:24}, random_state=42)\n",
    "eval_model(dt_2,  X_train, X_test, y_train, y_test)"
   ]
  },
  {
   "cell_type": "code",
   "execution_count": 43,
   "metadata": {},
   "outputs": [
    {
     "name": "stdout",
     "output_type": "stream",
     "text": [
      "Accuracy:  0.9527617756692647\n",
      "Precision Score:  0.40611353711790393\n",
      "Recall Score:  0.9647302904564315\n",
      "F1 Score:  0.5716041794714197\n",
      "Confusion Matrix:  [[13593   680]\n",
      " [   17   465]]\n"
     ]
    }
   ],
   "source": [
    "from sklearn.linear_model.logistic import LogisticRegression\n",
    "logreg = LogisticRegression(class_weight={0:1, 1:24}, random_state=42)\n",
    "eval_model(logreg, X_train, X_test, y_train, y_test)"
   ]
  },
  {
   "cell_type": "code",
   "execution_count": 45,
   "metadata": {},
   "outputs": [
    {
     "name": "stdout",
     "output_type": "stream",
     "text": [
      "Accuracy:  0.983598780074551\n",
      "Precision Score:  0.7586206896551724\n",
      "Recall Score:  0.7302904564315352\n",
      "F1 Score:  0.7441860465116279\n",
      "Confusion Matrix:  [[14161   112]\n",
      " [  130   352]]\n"
     ]
    }
   ],
   "source": [
    "from sklearn.ensemble import RandomForestClassifier\n",
    "rf = RandomForestClassifier(class_weight={0:1, 1:24}, random_state=42)\n",
    "eval_model(rf, X_train, X_test, y_train, y_test)"
   ]
  },
  {
   "cell_type": "code",
   "execution_count": 49,
   "metadata": {
    "scrolled": true
   },
   "outputs": [
    {
     "name": "stdout",
     "output_type": "stream",
     "text": [
      "Accuracy:  0.9788546255506608\n",
      "Precision Score:  0.785234899328859\n",
      "Recall Score:  0.4854771784232365\n",
      "F1 Score:  0.6\n",
      "Confusion Matrix:  [[14209    64]\n",
      " [  248   234]]\n"
     ]
    }
   ],
   "source": [
    "from sklearn.neighbors import KNeighborsClassifier\n",
    "knn = KNeighborsClassifier(weights='distance')\n",
    "eval_model(knn, X_train, X_test, y_train, y_test)"
   ]
  },
  {
   "cell_type": "markdown",
   "metadata": {},
   "source": []
  }
 ],
 "metadata": {
  "kernelspec": {
   "display_name": "Python 3",
   "language": "python",
   "name": "python3"
  },
  "language_info": {
   "codemirror_mode": {
    "name": "ipython",
    "version": 3
   },
   "file_extension": ".py",
   "mimetype": "text/x-python",
   "name": "python",
   "nbconvert_exporter": "python",
   "pygments_lexer": "ipython3",
   "version": "3.6.4"
  }
 },
 "nbformat": 4,
 "nbformat_minor": 2
}
