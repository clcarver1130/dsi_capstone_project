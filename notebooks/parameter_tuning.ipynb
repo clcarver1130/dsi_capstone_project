{
 "cells": [
  {
   "cell_type": "markdown",
   "metadata": {},
   "source": [
    "### Load in Libraries and Data"
   ]
  },
  {
   "cell_type": "code",
   "execution_count": 1,
   "metadata": {},
   "outputs": [],
   "source": [
    "# Import libraries\n",
    "import pandas as pd\n",
    "import numpy as np\n",
    "import matplotlib.pyplot as plt\n",
    "from sklearn.ensemble import GradientBoostingClassifier\n",
    "from sklearn.model_selection import GridSearchCV, train_test_split, cross_val_score\n",
    "from sklearn.metrics import roc_auc_score, accuracy_score, precision_score, recall_score, confusion_matrix"
   ]
  },
  {
   "cell_type": "code",
   "execution_count": 5,
   "metadata": {},
   "outputs": [],
   "source": [
    "# Create function to convert colors: rgb_colors\n",
    "def rgb_color(r,g,b):\n",
    "    r = r/255.\n",
    "    g = g/255.\n",
    "    b = b/255.\n",
    "    return(r,g,b)\n",
    "\n",
    "# Create colors:\n",
    "tableau_blue = rgb_color(31,119,180)\n",
    "tableau_grey = rgb_color(127,127,127)"
   ]
  },
  {
   "cell_type": "code",
   "execution_count": 4,
   "metadata": {},
   "outputs": [],
   "source": [
    "# Load in data: df\n",
    "df = pd.read_csv('https://s3.amazonaws.com/clcarverloans/data/df_cluster.csv')"
   ]
  },
  {
   "cell_type": "code",
   "execution_count": null,
   "metadata": {},
   "outputs": [],
   "source": []
  },
  {
   "cell_type": "code",
   "execution_count": 5,
   "metadata": {},
   "outputs": [],
   "source": [
    "# Remove usesless rows: df_select\n",
    "cols = ['Borrower_Genders', 'Country Code', 'Loan Amount', 'Lender_Term', 'Repayment_Interval', 'Distribution_Model', 'Sector', 'Activity','Cluster','Delinquent']\n",
    "df_select = df[cols]\n",
    "df_select = df_select.dropna()"
   ]
  },
  {
   "cell_type": "code",
   "execution_count": 6,
   "metadata": {},
   "outputs": [],
   "source": [
    "# One_hot_encode categorical columns: df_dummies\n",
    "df_dummies = pd.get_dummies(df_select)"
   ]
  },
  {
   "cell_type": "code",
   "execution_count": 13,
   "metadata": {},
   "outputs": [],
   "source": [
    "import csv\n",
    "full_col = df_dummies.columns\n",
    "with open('full_col.csv', 'w') as myfile:\n",
    "    wr = csv.writer(myfile, quoting=csv.QUOTE_ALL)\n",
    "    wr.writerow(full_col)"
   ]
  },
  {
   "cell_type": "code",
   "execution_count": 14,
   "metadata": {},
   "outputs": [],
   "source": [
    "with open('../data/full_col.csv') as f:\n",
    "    full_dummies = f.read().splitlines()"
   ]
  },
  {
   "cell_type": "code",
   "execution_count": 6,
   "metadata": {},
   "outputs": [],
   "source": [
    "# Remove usesless rows: df_select\n",
    "cols = ['Borrower_Genders', 'Country Code', 'Loan Amount', 'Lender_Term', 'Repayment_Interval', 'Distribution_Model', 'Sector', 'Activity','Cluster','Delinquent']\n",
    "df_select = df[cols]\n",
    "df_select = df_select.dropna()\n",
    "\n",
    "# One_hot_encode categorical columns: df_dummies\n",
    "df_dummies = pd.get_dummies(df_select)\n",
    "\n",
    "# Select features and target: X, y\n",
    "y = df_dummies.pop('Delinquent')\n",
    "X = df_dummies\n",
    "\n",
    "# Split data into train and test set: train_set, test_set\n",
    "X_train, X_test, y_train, y_test = train_test_split(X, y, test_size=0.2, random_state=42)"
   ]
  },
  {
   "cell_type": "markdown",
   "metadata": {},
   "source": [
    "### Evaluate the Baseline Model"
   ]
  },
  {
   "cell_type": "code",
   "execution_count": 7,
   "metadata": {},
   "outputs": [],
   "source": [
    "def modelfit(model, X_train, X_test, y_train, y_test, performCV=True, printFeatureImportance=True, cv_folds=5):\n",
    "    \n",
    "    #Fit the algorithm on the data\n",
    "    model.fit(X_train, y_train)\n",
    "        \n",
    "    #Predict training set:\n",
    "    y_pred = model.predict(X_test)\n",
    "    y_predprob = model.predict_proba(X_test)[:,1]\n",
    "    \n",
    "    #Perform cross-validation:\n",
    "    if performCV:\n",
    "        cv_score = cross_val_score(model, X_train, y_train, cv=cv_folds, scoring='roc_auc')\n",
    "    \n",
    "    CM = confusion_matrix(y_test, y_pred)\n",
    "\n",
    "    TN = CM[0][0]\n",
    "    FN = CM[1][0]\n",
    "    TP = CM[1][1]\n",
    "    FP = CM[0][1]\n",
    "    \n",
    "    #Print model report:\n",
    "    print (\"\\nModel Report\")\n",
    "    print (\"Accuracy : {}\".format(accuracy_score(y_test, y_pred)))\n",
    "    print (\"AUC Score : {}\".format(roc_auc_score(y_test, y_predprob)))\n",
    "    print (\"Recall Score : {}\".format(recall_score(y_test, y_pred)))\n",
    "    print (\"Precision Score : {}\".format(precision_score(y_test, y_pred)))\n",
    "    print ('FPR : {}'.format(FP/(FP+TN)))\n",
    "    \n",
    "        \n",
    "    #Print Feature Importance:\n",
    "    if printFeatureImportance:\n",
    "        feat_imp = pd.Series(model.feature_importances_, X_train.columns).sort_values(ascending=False)\n",
    "        feat_imp.iloc[0:10].plot(kind='bar', title='Feature Importances', color=tableau_blue)\n",
    "        plt.ylabel('Feature Importance Score')"
   ]
  },
  {
   "cell_type": "code",
   "execution_count": 9,
   "metadata": {},
   "outputs": [
    {
     "name": "stdout",
     "output_type": "stream",
     "text": [
      "\n",
      "Model Report\n",
      "Accuracy : 0.9828661280702705\n",
      "AUC Score : 0.9838190513553403\n",
      "Recall Score : 0.52\n",
      "Precision Score : 0.9176470588235294\n",
      "FPR : 0.001569242840329541\n"
     ]
    },
    {
     "data": {
      "image/png": "[encoded data removed]",
      "text/plain": [
       "<matplotlib.figure.Figure at 0x7f429b2ef4a8>"
      ]
     },
     "metadata": {},
     "output_type": "display_data"
    }
   ],
   "source": [
    "gbm_baseline = GradientBoostingClassifier()\n",
    "modelfit(gbm_baseline, X_train, X_test, y_train, y_test, performCV=False)"
   ]
  },
  {
   "cell_type": "markdown",
   "metadata": {},
   "source": [
    "### Hyper-tune Parameters"
   ]
  },
  {
   "cell_type": "code",
   "execution_count": 7,
   "metadata": {},
   "outputs": [
    {
     "name": "stdout",
     "output_type": "stream",
     "text": [
      "Fitting 5 folds for each of 7 candidates, totalling 35 fits\n"
     ]
    },
    {
     "name": "stderr",
     "output_type": "stream",
     "text": [
      "[Parallel(n_jobs=4)]: Done  35 out of  35 | elapsed:  1.7min finished\n"
     ]
    },
    {
     "data": {
      "text/plain": [
       "([mean: 0.98407, std: 0.00316, params: {'n_estimators': 20},\n",
       "  mean: 0.98545, std: 0.00278, params: {'n_estimators': 30},\n",
       "  mean: 0.98625, std: 0.00270, params: {'n_estimators': 40},\n",
       "  mean: 0.98684, std: 0.00268, params: {'n_estimators': 50},\n",
       "  mean: 0.98730, std: 0.00264, params: {'n_estimators': 60},\n",
       "  mean: 0.98760, std: 0.00284, params: {'n_estimators': 70},\n",
       "  mean: 0.98792, std: 0.00262, params: {'n_estimators': 80}],\n",
       " {'n_estimators': 80},\n",
       " 0.9879219025166895)"
      ]
     },
     "execution_count": 7,
     "metadata": {},
     "output_type": "execute_result"
    }
   ],
   "source": [
    "# Hypertune n_estimators\n",
    "param_test1 = {'n_estimators':range(20,81,10)}\n",
    "gsearch1 = GridSearchCV(estimator = GradientBoostingClassifier(learning_rate=0.1, min_samples_split=500,min_samples_leaf=50,max_depth=8,max_features='sqrt',subsample=0.8,random_state=10), \n",
    "param_grid = param_test1, scoring='roc_auc', n_jobs=4, iid=False, cv=5, verbose=True)\n",
    "gsearch1.fit(X_train, y_train)\n",
    "gsearch1.grid_scores_, gsearch1.best_params_, gsearch1.best_score_"
   ]
  },
  {
   "cell_type": "code",
   "execution_count": 8,
   "metadata": {},
   "outputs": [
    {
     "name": "stdout",
     "output_type": "stream",
     "text": [
      "Fitting 5 folds for each of 30 candidates, totalling 150 fits\n"
     ]
    },
    {
     "name": "stderr",
     "output_type": "stream",
     "text": [
      "[Parallel(n_jobs=4)]: Done  42 tasks      | elapsed:  2.0min\n",
      "[Parallel(n_jobs=4)]: Done 150 out of 150 | elapsed: 11.9min finished\n"
     ]
    },
    {
     "data": {
      "text/plain": [
       "([mean: 0.98587, std: 0.00256, params: {'max_depth': 5, 'min_samples_split': 200},\n",
       "  mean: 0.98560, std: 0.00323, params: {'max_depth': 5, 'min_samples_split': 400},\n",
       "  mean: 0.98538, std: 0.00290, params: {'max_depth': 5, 'min_samples_split': 600},\n",
       "  mean: 0.98531, std: 0.00288, params: {'max_depth': 5, 'min_samples_split': 800},\n",
       "  mean: 0.98530, std: 0.00308, params: {'max_depth': 5, 'min_samples_split': 1000},\n",
       "  mean: 0.98693, std: 0.00280, params: {'max_depth': 7, 'min_samples_split': 200},\n",
       "  mean: 0.98672, std: 0.00262, params: {'max_depth': 7, 'min_samples_split': 400},\n",
       "  mean: 0.98695, std: 0.00284, params: {'max_depth': 7, 'min_samples_split': 600},\n",
       "  mean: 0.98670, std: 0.00273, params: {'max_depth': 7, 'min_samples_split': 800},\n",
       "  mean: 0.98642, std: 0.00273, params: {'max_depth': 7, 'min_samples_split': 1000},\n",
       "  mean: 0.98790, std: 0.00203, params: {'max_depth': 9, 'min_samples_split': 200},\n",
       "  mean: 0.98827, std: 0.00191, params: {'max_depth': 9, 'min_samples_split': 400},\n",
       "  mean: 0.98810, std: 0.00216, params: {'max_depth': 9, 'min_samples_split': 600},\n",
       "  mean: 0.98722, std: 0.00292, params: {'max_depth': 9, 'min_samples_split': 800},\n",
       "  mean: 0.98755, std: 0.00231, params: {'max_depth': 9, 'min_samples_split': 1000},\n",
       "  mean: 0.98908, std: 0.00195, params: {'max_depth': 11, 'min_samples_split': 200},\n",
       "  mean: 0.98873, std: 0.00190, params: {'max_depth': 11, 'min_samples_split': 400},\n",
       "  mean: 0.98875, std: 0.00232, params: {'max_depth': 11, 'min_samples_split': 600},\n",
       "  mean: 0.98829, std: 0.00268, params: {'max_depth': 11, 'min_samples_split': 800},\n",
       "  mean: 0.98837, std: 0.00196, params: {'max_depth': 11, 'min_samples_split': 1000},\n",
       "  mean: 0.98956, std: 0.00181, params: {'max_depth': 13, 'min_samples_split': 200},\n",
       "  mean: 0.98919, std: 0.00209, params: {'max_depth': 13, 'min_samples_split': 400},\n",
       "  mean: 0.98884, std: 0.00218, params: {'max_depth': 13, 'min_samples_split': 600},\n",
       "  mean: 0.98886, std: 0.00238, params: {'max_depth': 13, 'min_samples_split': 800},\n",
       "  mean: 0.98874, std: 0.00207, params: {'max_depth': 13, 'min_samples_split': 1000},\n",
       "  mean: 0.98986, std: 0.00192, params: {'max_depth': 15, 'min_samples_split': 200},\n",
       "  mean: 0.98960, std: 0.00195, params: {'max_depth': 15, 'min_samples_split': 400},\n",
       "  mean: 0.98921, std: 0.00187, params: {'max_depth': 15, 'min_samples_split': 600},\n",
       "  mean: 0.98926, std: 0.00187, params: {'max_depth': 15, 'min_samples_split': 800},\n",
       "  mean: 0.98929, std: 0.00210, params: {'max_depth': 15, 'min_samples_split': 1000}],\n",
       " {'max_depth': 15, 'min_samples_split': 200},\n",
       " 0.9898596559840472)"
      ]
     },
     "execution_count": 8,
     "metadata": {},
     "output_type": "execute_result"
    }
   ],
   "source": [
    "# Hypertune max_depth and min_samples_split\n",
    "param_test2 = {'max_depth':range(5,16,2), 'min_samples_split':range(200,1001,200)}\n",
    "gsearch2 = GridSearchCV(estimator = GradientBoostingClassifier(learning_rate=0.1, n_estimators=60, max_features='sqrt', subsample=0.8, random_state=10), \n",
    "param_grid = param_test2, scoring='roc_auc',n_jobs=4,iid=False, cv=5, verbose=True)\n",
    "gsearch2.fit(X_train, y_train)\n",
    "gsearch2.grid_scores_, gsearch2.best_params_, gsearch2.best_score_"
   ]
  },
  {
   "cell_type": "code",
   "execution_count": 9,
   "metadata": {},
   "outputs": [
    {
     "data": {
      "text/plain": [
       "([mean: 0.98757, std: 0.00258, params: {'min_samples_leaf': 30, 'min_samples_split': 1000},\n",
       "  mean: 0.98755, std: 0.00262, params: {'min_samples_leaf': 30, 'min_samples_split': 1200},\n",
       "  mean: 0.98767, std: 0.00230, params: {'min_samples_leaf': 30, 'min_samples_split': 1400},\n",
       "  mean: 0.98743, std: 0.00269, params: {'min_samples_leaf': 30, 'min_samples_split': 1600},\n",
       "  mean: 0.98727, std: 0.00287, params: {'min_samples_leaf': 30, 'min_samples_split': 1800},\n",
       "  mean: 0.98755, std: 0.00224, params: {'min_samples_leaf': 30, 'min_samples_split': 2000},\n",
       "  mean: 0.98754, std: 0.00237, params: {'min_samples_leaf': 40, 'min_samples_split': 1000},\n",
       "  mean: 0.98741, std: 0.00234, params: {'min_samples_leaf': 40, 'min_samples_split': 1200},\n",
       "  mean: 0.98735, std: 0.00258, params: {'min_samples_leaf': 40, 'min_samples_split': 1400},\n",
       "  mean: 0.98747, std: 0.00273, params: {'min_samples_leaf': 40, 'min_samples_split': 1600},\n",
       "  mean: 0.98747, std: 0.00276, params: {'min_samples_leaf': 40, 'min_samples_split': 1800},\n",
       "  mean: 0.98713, std: 0.00282, params: {'min_samples_leaf': 40, 'min_samples_split': 2000},\n",
       "  mean: 0.98741, std: 0.00271, params: {'min_samples_leaf': 50, 'min_samples_split': 1000},\n",
       "  mean: 0.98790, std: 0.00217, params: {'min_samples_leaf': 50, 'min_samples_split': 1200},\n",
       "  mean: 0.98781, std: 0.00244, params: {'min_samples_leaf': 50, 'min_samples_split': 1400},\n",
       "  mean: 0.98763, std: 0.00247, params: {'min_samples_leaf': 50, 'min_samples_split': 1600},\n",
       "  mean: 0.98722, std: 0.00266, params: {'min_samples_leaf': 50, 'min_samples_split': 1800},\n",
       "  mean: 0.98737, std: 0.00274, params: {'min_samples_leaf': 50, 'min_samples_split': 2000},\n",
       "  mean: 0.98773, std: 0.00246, params: {'min_samples_leaf': 60, 'min_samples_split': 1000},\n",
       "  mean: 0.98752, std: 0.00247, params: {'min_samples_leaf': 60, 'min_samples_split': 1200},\n",
       "  mean: 0.98741, std: 0.00252, params: {'min_samples_leaf': 60, 'min_samples_split': 1400},\n",
       "  mean: 0.98749, std: 0.00262, params: {'min_samples_leaf': 60, 'min_samples_split': 1600},\n",
       "  mean: 0.98736, std: 0.00253, params: {'min_samples_leaf': 60, 'min_samples_split': 1800},\n",
       "  mean: 0.98755, std: 0.00272, params: {'min_samples_leaf': 60, 'min_samples_split': 2000},\n",
       "  mean: 0.98800, std: 0.00233, params: {'min_samples_leaf': 70, 'min_samples_split': 1000},\n",
       "  mean: 0.98754, std: 0.00256, params: {'min_samples_leaf': 70, 'min_samples_split': 1200},\n",
       "  mean: 0.98752, std: 0.00242, params: {'min_samples_leaf': 70, 'min_samples_split': 1400},\n",
       "  mean: 0.98751, std: 0.00244, params: {'min_samples_leaf': 70, 'min_samples_split': 1600},\n",
       "  mean: 0.98765, std: 0.00248, params: {'min_samples_leaf': 70, 'min_samples_split': 1800},\n",
       "  mean: 0.98737, std: 0.00235, params: {'min_samples_leaf': 70, 'min_samples_split': 2000}],\n",
       " {'min_samples_leaf': 70, 'min_samples_split': 1000},\n",
       " 0.9879952367747107)"
      ]
     },
     "execution_count": 9,
     "metadata": {},
     "output_type": "execute_result"
    }
   ],
   "source": [
    "# Tuning min_samples_split and min_samples_leaf\n",
    "param_test3 = {'min_samples_split':range(1000,2100,200), 'min_samples_leaf':range(30,71,10)}\n",
    "gsearch3 = GridSearchCV(estimator = GradientBoostingClassifier(learning_rate=0.1, n_estimators=60,max_depth=9,max_features='sqrt', subsample=0.8, random_state=10), \n",
    "param_grid = param_test3, scoring='roc_auc',n_jobs=4,iid=False, cv=5)\n",
    "gsearch3.fit(X_train, y_train)\n",
    "gsearch3.grid_scores_, gsearch3.best_params_, gsearch3.best_score_"
   ]
  },
  {
   "cell_type": "code",
   "execution_count": 10,
   "metadata": {
    "scrolled": true
   },
   "outputs": [
    {
     "data": {
      "text/plain": [
       "([mean: 0.98531, std: 0.00301, params: {'max_features': 7},\n",
       "  mean: 0.98655, std: 0.00281, params: {'max_features': 9},\n",
       "  mean: 0.98604, std: 0.00293, params: {'max_features': 11},\n",
       "  mean: 0.98668, std: 0.00263, params: {'max_features': 13},\n",
       "  mean: 0.98752, std: 0.00247, params: {'max_features': 15},\n",
       "  mean: 0.98765, std: 0.00238, params: {'max_features': 17},\n",
       "  mean: 0.98781, std: 0.00231, params: {'max_features': 19}],\n",
       " {'max_features': 19},\n",
       " 0.9878125148154429)"
      ]
     },
     "execution_count": 10,
     "metadata": {},
     "output_type": "execute_result"
    }
   ],
   "source": [
    "# Tune max_features\n",
    "param_test4 = {'max_features':range(7,20,2)}\n",
    "gsearch4 = GridSearchCV(estimator = GradientBoostingClassifier(learning_rate=0.1, n_estimators=60,max_depth=9, min_samples_split=1200, min_samples_leaf=60, subsample=0.8, random_state=10),\n",
    "param_grid = param_test4, scoring='roc_auc',n_jobs=4,iid=False, cv=5)\n",
    "gsearch4.fit(X_train, y_train)\n",
    "gsearch4.grid_scores_, gsearch4.best_params_, gsearch4.best_score_"
   ]
  },
  {
   "cell_type": "code",
   "execution_count": 12,
   "metadata": {},
   "outputs": [
    {
     "name": "stdout",
     "output_type": "stream",
     "text": [
      "Fitting 5 folds for each of 6 candidates, totalling 30 fits\n"
     ]
    },
    {
     "name": "stderr",
     "output_type": "stream",
     "text": [
      "[Parallel(n_jobs=4)]: Done  30 out of  30 | elapsed:  1.0min finished\n"
     ]
    },
    {
     "data": {
      "text/plain": [
       "([mean: 0.98546, std: 0.00263, params: {'subsample': 0.6},\n",
       "  mean: 0.98532, std: 0.00302, params: {'subsample': 0.7},\n",
       "  mean: 0.98581, std: 0.00277, params: {'subsample': 0.75},\n",
       "  mean: 0.98531, std: 0.00301, params: {'subsample': 0.8},\n",
       "  mean: 0.98539, std: 0.00322, params: {'subsample': 0.85},\n",
       "  mean: 0.98554, std: 0.00285, params: {'subsample': 0.9}],\n",
       " {'subsample': 0.75},\n",
       " 0.9858105299669427)"
      ]
     },
     "execution_count": 12,
     "metadata": {},
     "output_type": "execute_result"
    }
   ],
   "source": [
    "# Subsample \n",
    "param_test5 = {'subsample':[0.6,0.7,0.75,0.8,0.85,0.9]}\n",
    "gsearch5 = GridSearchCV(estimator = GradientBoostingClassifier(learning_rate=0.1, n_estimators=60,max_depth=9,min_samples_split=1200, min_samples_leaf=60, subsample=0.8, random_state=10,max_features=7),\n",
    "param_grid = param_test5, scoring='roc_auc',n_jobs=4,iid=False, cv=5, verbose=True)\n",
    "gsearch5.fit(X_train, y_train)\n",
    "gsearch5.grid_scores_, gsearch5.best_params_, gsearch5.best_score_"
   ]
  },
  {
   "cell_type": "code",
   "execution_count": 10,
   "metadata": {},
   "outputs": [
    {
     "name": "stdout",
     "output_type": "stream",
     "text": [
      "\n",
      "Model Report\n",
      "Accuracy : 0.984113213685409\n",
      "AUC Score : 0.9887993424125241\n",
      "Recall Score : 0.6083333333333333\n",
      "Precision Score : 0.8628841607565012\n",
      "FPR : 0.0032505744549683347\n"
     ]
    },
    {
     "data": {
      "image/png": "[encoded data removed]",
      "text/plain": [
       "<matplotlib.figure.Figure at 0x7f42993f32e8>"
      ]
     },
     "metadata": {},
     "output_type": "display_data"
    }
   ],
   "source": [
    "gbm_tuned1 = GradientBoostingClassifier(learning_rate=0.1, n_estimators=80,max_depth=15, min_samples_split=1000, min_samples_leaf=70, subsample=0.75, random_state=10, max_features=19)\n",
    "modelfit(gbm_tuned1, X_train, X_test, y_train, y_test, performCV=False)"
   ]
  },
  {
   "cell_type": "code",
   "execution_count": 11,
   "metadata": {
    "scrolled": false
   },
   "outputs": [
    {
     "name": "stdout",
     "output_type": "stream",
     "text": [
      "\n",
      "Model Report\n",
      "Accuracy : 0.9837878870031991\n",
      "AUC Score : 0.9889490276298829\n",
      "Recall Score : 0.5883333333333334\n",
      "Precision Score : 0.8716049382716049\n",
      "FPR : 0.002914308132040576\n"
     ]
    },
    {
     "data": {
      "image/png": "[encoded data removed]",
      "text/plain": [
       "<matplotlib.figure.Figure at 0x7f42975d25c0>"
      ]
     },
     "metadata": {},
     "output_type": "display_data"
    }
   ],
   "source": [
    "gbm_tuned2 = GradientBoostingClassifier(learning_rate=0.005, n_estimators=1200,max_depth=15, min_samples_split=1000, min_samples_leaf=70, subsample=0.75, random_state=10, max_features=19)\n",
    "modelfit(gbm_tuned2, X_train, X_test, y_train, y_test, performCV=False)"
   ]
  },
  {
   "cell_type": "markdown",
   "metadata": {},
   "source": [
    "### Save and Pickle Final Model"
   ]
  },
  {
   "cell_type": "code",
   "execution_count": 40,
   "metadata": {},
   "outputs": [],
   "source": [
    "# Save final model: final_model\n",
    "import pickle\n",
    "with open('../scripts/final_model.pkl', 'wb') as output:\n",
    "    pickle.dump(gbm_tuned2, output, pickle.HIGHEST_PROTOCOL)"
   ]
  }
 ],
 "metadata": {
  "kernelspec": {
   "display_name": "Python 3",
   "language": "python",
   "name": "python3"
  },
  "language_info": {
   "codemirror_mode": {
    "name": "ipython",
    "version": 3
   },
   "file_extension": ".py",
   "mimetype": "text/x-python",
   "name": "python",
   "nbconvert_exporter": "python",
   "pygments_lexer": "ipython3",
   "version": "3.6.4"
  }
 },
 "nbformat": 4,
 "nbformat_minor": 2
}
