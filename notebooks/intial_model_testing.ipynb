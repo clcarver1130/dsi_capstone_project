{
 "cells": [
  {
   "cell_type": "code",
   "execution_count": 8,
   "metadata": {},
   "outputs": [],
   "source": [
    "# Import libraries\n",
    "import pandas as pd\n",
    "import matplotlib.pyplot as plt\n",
    "import numpy as np\n",
    "from sklearn.model_selection import train_test_split"
   ]
  },
  {
   "cell_type": "markdown",
   "metadata": {},
   "source": [
    "### Load in the Data\n",
    "___"
   ]
  },
  {
   "cell_type": "code",
   "execution_count": 2,
   "metadata": {},
   "outputs": [],
   "source": [
    "# Load in data: df\n",
    "df = pd.read_csv('https://s3.amazonaws.com/clcarverloans/data/df_cluster.csv')"
   ]
  },
  {
   "cell_type": "code",
   "execution_count": 3,
   "metadata": {},
   "outputs": [
    {
     "data": {
      "text/html": [
       "<div>\n",
       "<style scoped>\n",
       "    .dataframe tbody tr th:only-of-type {\n",
       "        vertical-align: middle;\n",
       "    }\n",
       "\n",
       "    .dataframe tbody tr th {\n",
       "        vertical-align: top;\n",
       "    }\n",
       "\n",
       "    .dataframe thead th {\n",
       "        text-align: right;\n",
       "    }\n",
       "</style>\n",
       "<table border=\"1\" class=\"dataframe\">\n",
       "  <thead>\n",
       "    <tr style=\"text-align: right;\">\n",
       "      <th></th>\n",
       "      <th>Unnamed: 0</th>\n",
       "      <th>Id</th>\n",
       "      <th>Funded Date</th>\n",
       "      <th>Borrower_Genders</th>\n",
       "      <th>Country Code</th>\n",
       "      <th>Country</th>\n",
       "      <th>Town_Name</th>\n",
       "      <th>Loan Amount</th>\n",
       "      <th>Lender_Term</th>\n",
       "      <th>Repayment_Interval</th>\n",
       "      <th>Distribution_Model</th>\n",
       "      <th>Sector</th>\n",
       "      <th>Activity</th>\n",
       "      <th>Use</th>\n",
       "      <th>Delinquent</th>\n",
       "      <th>Cluster</th>\n",
       "    </tr>\n",
       "  </thead>\n",
       "  <tbody>\n",
       "    <tr>\n",
       "      <th>0</th>\n",
       "      <td>0</td>\n",
       "      <td>155661</td>\n",
       "      <td>2010-01-04T14:29:24Z</td>\n",
       "      <td>female</td>\n",
       "      <td>PH</td>\n",
       "      <td>Philippines</td>\n",
       "      <td>Dipolog-Piñan, Zamboanga del Norte</td>\n",
       "      <td>1075</td>\n",
       "      <td>7.0</td>\n",
       "      <td>monthly</td>\n",
       "      <td>field_partner</td>\n",
       "      <td>Housing</td>\n",
       "      <td>Personal Housing Expenses</td>\n",
       "      <td>To purchase construction materials and labor f...</td>\n",
       "      <td>False</td>\n",
       "      <td>0.0</td>\n",
       "    </tr>\n",
       "    <tr>\n",
       "      <th>1</th>\n",
       "      <td>1</td>\n",
       "      <td>155674</td>\n",
       "      <td>2010-01-01T19:15:17Z</td>\n",
       "      <td>male</td>\n",
       "      <td>AF</td>\n",
       "      <td>Afghanistan</td>\n",
       "      <td>Kabul Afghanistan</td>\n",
       "      <td>1075</td>\n",
       "      <td>14.0</td>\n",
       "      <td>monthly</td>\n",
       "      <td>field_partner</td>\n",
       "      <td>Construction</td>\n",
       "      <td>Construction</td>\n",
       "      <td>to buy construction materials</td>\n",
       "      <td>False</td>\n",
       "      <td>0.0</td>\n",
       "    </tr>\n",
       "    <tr>\n",
       "      <th>2</th>\n",
       "      <td>2</td>\n",
       "      <td>155677</td>\n",
       "      <td>2010-01-02T00:21:08Z</td>\n",
       "      <td>male</td>\n",
       "      <td>AF</td>\n",
       "      <td>Afghanistan</td>\n",
       "      <td>Kabul Afghanistan</td>\n",
       "      <td>1075</td>\n",
       "      <td>14.0</td>\n",
       "      <td>monthly</td>\n",
       "      <td>field_partner</td>\n",
       "      <td>Construction</td>\n",
       "      <td>Construction</td>\n",
       "      <td>to purchase construction materials</td>\n",
       "      <td>False</td>\n",
       "      <td>0.0</td>\n",
       "    </tr>\n",
       "    <tr>\n",
       "      <th>3</th>\n",
       "      <td>3</td>\n",
       "      <td>155698</td>\n",
       "      <td>2010-01-01T17:31:27Z</td>\n",
       "      <td>group</td>\n",
       "      <td>AF</td>\n",
       "      <td>Afghanistan</td>\n",
       "      <td>Kabul Afghanistan</td>\n",
       "      <td>425</td>\n",
       "      <td>10.0</td>\n",
       "      <td>monthly</td>\n",
       "      <td>field_partner</td>\n",
       "      <td>Services</td>\n",
       "      <td>Services</td>\n",
       "      <td>to expand and resupply three small businesses</td>\n",
       "      <td>False</td>\n",
       "      <td>5.0</td>\n",
       "    </tr>\n",
       "    <tr>\n",
       "      <th>4</th>\n",
       "      <td>4</td>\n",
       "      <td>155710</td>\n",
       "      <td>2010-01-01T18:16:31Z</td>\n",
       "      <td>group</td>\n",
       "      <td>AF</td>\n",
       "      <td>Afghanistan</td>\n",
       "      <td>Kabul Afghanistan</td>\n",
       "      <td>850</td>\n",
       "      <td>12.0</td>\n",
       "      <td>monthly</td>\n",
       "      <td>field_partner</td>\n",
       "      <td>Services</td>\n",
       "      <td>Services</td>\n",
       "      <td>to expand four small businesses</td>\n",
       "      <td>False</td>\n",
       "      <td>5.0</td>\n",
       "    </tr>\n",
       "  </tbody>\n",
       "</table>\n",
       "</div>"
      ],
      "text/plain": [
       "   Unnamed: 0      Id           Funded Date Borrower_Genders Country Code  \\\n",
       "0           0  155661  2010-01-04T14:29:24Z           female           PH   \n",
       "1           1  155674  2010-01-01T19:15:17Z             male           AF   \n",
       "2           2  155677  2010-01-02T00:21:08Z             male           AF   \n",
       "3           3  155698  2010-01-01T17:31:27Z            group           AF   \n",
       "4           4  155710  2010-01-01T18:16:31Z            group           AF   \n",
       "\n",
       "       Country                           Town_Name  Loan Amount  Lender_Term  \\\n",
       "0  Philippines  Dipolog-Piñan, Zamboanga del Norte         1075          7.0   \n",
       "1  Afghanistan                   Kabul Afghanistan         1075         14.0   \n",
       "2  Afghanistan                   Kabul Afghanistan         1075         14.0   \n",
       "3  Afghanistan                   Kabul Afghanistan          425         10.0   \n",
       "4  Afghanistan                   Kabul Afghanistan          850         12.0   \n",
       "\n",
       "  Repayment_Interval Distribution_Model        Sector  \\\n",
       "0            monthly      field_partner       Housing   \n",
       "1            monthly      field_partner  Construction   \n",
       "2            monthly      field_partner  Construction   \n",
       "3            monthly      field_partner      Services   \n",
       "4            monthly      field_partner      Services   \n",
       "\n",
       "                    Activity  \\\n",
       "0  Personal Housing Expenses   \n",
       "1               Construction   \n",
       "2               Construction   \n",
       "3                   Services   \n",
       "4                   Services   \n",
       "\n",
       "                                                 Use  Delinquent  Cluster  \n",
       "0  To purchase construction materials and labor f...       False      0.0  \n",
       "1                      to buy construction materials       False      0.0  \n",
       "2                 to purchase construction materials       False      0.0  \n",
       "3      to expand and resupply three small businesses       False      5.0  \n",
       "4                    to expand four small businesses       False      5.0  "
      ]
     },
     "execution_count": 3,
     "metadata": {},
     "output_type": "execute_result"
    }
   ],
   "source": [
    "df.head()"
   ]
  },
  {
   "cell_type": "markdown",
   "metadata": {},
   "source": [
    "### Clean the Data\n",
    "___"
   ]
  },
  {
   "cell_type": "code",
   "execution_count": 17,
   "metadata": {},
   "outputs": [
    {
     "name": "stderr",
     "output_type": "stream",
     "text": [
      "/home/ubuntu/anaconda3/lib/python3.6/site-packages/ipykernel_launcher.py:6: SettingWithCopyWarning: \n",
      "A value is trying to be set on a copy of a slice from a DataFrame\n",
      "\n",
      "See the caveats in the documentation: http://pandas.pydata.org/pandas-docs/stable/indexing.html#indexing-view-versus-copy\n",
      "  \n"
     ]
    }
   ],
   "source": [
    "# Remove usesless rows: df_select\n",
    "cols = ['Borrower_Genders', 'Country Code', 'Loan Amount', 'Lender_Term',\n",
    "       'Repayment_Interval', 'Distribution_Model', 'Sector', 'Activity','Cluster','Delinquent']\n",
    "df_select = df[cols]\n",
    "\n",
    "df_select.dropna(inplace=True)\n",
    "\n",
    "# One_hot_encode categorical columns: df_dummies\n",
    "df_dummies = pd.get_dummies(df_select)\n",
    "\n",
    "# Select features and target: X, y\n",
    "y = df_dummies.pop('Delinquent')\n",
    "X = df_dummies"
   ]
  },
  {
   "cell_type": "code",
   "execution_count": 19,
   "metadata": {},
   "outputs": [],
   "source": [
    "# Split data into train and test set: train_set, test_set\n",
    "X_train, X_test, y_train, y_test = train_test_split(X, y, test_size=0.2, random_state=42)"
   ]
  },
  {
   "cell_type": "markdown",
   "metadata": {},
   "source": [
    "### Test Simple Model"
   ]
  },
  {
   "cell_type": "code",
   "execution_count": 21,
   "metadata": {},
   "outputs": [],
   "source": [
    "from sklearn.metrics import accuracy_score, precision_score, recall_score, f1_score, confusion_matrix\n",
    "\n",
    "# Build function to fit and evaluate model: eval_model\n",
    "def eval_model(model, X_train, X_test, y_train, y_test):\n",
    "    model.fit(X_train, y_train)\n",
    "    y_pred = model.predict(X_test)\n",
    "    print('Accuracy: ', accuracy_score(y_test, y_pred))\n",
    "    print ('Precision Score: ', precision_score(y_test, y_pred))\n",
    "    print ('Recall Score: ', recall_score(y_test, y_pred))\n",
    "    print ('F1 Score: ', f1_score(y_test, y_pred))\n",
    "    print('Confusion Matrix: ', confusion_matrix(y_test, y_pred))"
   ]
  },
  {
   "cell_type": "code",
   "execution_count": 22,
   "metadata": {},
   "outputs": [
    {
     "name": "stdout",
     "output_type": "stream",
     "text": [
      "Accuracy:  0.9842758770265141\n",
      "Precision Score:  0.7913533834586466\n",
      "Recall Score:  0.7016666666666667\n",
      "F1 Score:  0.7438162544169611\n",
      "Confusion Matrix:  [[17732   111]\n",
      " [  179   421]]\n"
     ]
    }
   ],
   "source": [
    "# Evaluate simple Decision Tree: dt\n",
    "from sklearn.tree import DecisionTreeClassifier\n",
    "dt = DecisionTreeClassifier(random_state=5)\n",
    "eval_model(dt,  X_train, X_test, y_train, y_test)"
   ]
  },
  {
   "cell_type": "code",
   "execution_count": 23,
   "metadata": {
    "scrolled": true
   },
   "outputs": [
    {
     "data": {
      "text/plain": [
       "[(0.20700005596435353, 'Country Code_TG'),\n",
       " (0.1368616077948382, 'Borrower_Genders_group'),\n",
       " (0.13120581695548703, 'Loan Amount'),\n",
       " (0.10610111676734349, 'Lender_Term'),\n",
       " (0.05227961188612153, 'Country Code_LR'),\n",
       " (0.04938424836962927, 'Country Code_KH'),\n",
       " (0.04316686329542834, 'Country Code_TZ'),\n",
       " (0.025748867140651777, 'Cluster'),\n",
       " (0.025382675583433833, 'Country Code_AF'),\n",
       " (0.01960882989542089, 'Country Code_VN')]"
      ]
     },
     "execution_count": 23,
     "metadata": {},
     "output_type": "execute_result"
    }
   ],
   "source": [
    "feature_importance = sorted(list(zip(dt.feature_importances_, X_train.columns)), reverse=True)\n",
    "feature_importance[0:10]"
   ]
  },
  {
   "cell_type": "markdown",
   "metadata": {},
   "source": [
    "### Test Other Models"
   ]
  },
  {
   "cell_type": "code",
   "execution_count": 25,
   "metadata": {},
   "outputs": [
    {
     "name": "stdout",
     "output_type": "stream",
     "text": [
      "Accuracy:  0.9808057257496069\n",
      "Precision Score:  0.6830357142857143\n",
      "Recall Score:  0.765\n",
      "F1 Score:  0.7216981132075472\n",
      "Confusion Matrix:  [[17630   213]\n",
      " [  141   459]]\n"
     ]
    }
   ],
   "source": [
    "dt_2 = DecisionTreeClassifier(class_weight={0:1, 1:24}, random_state=42)\n",
    "eval_model(dt_2,  X_train, X_test, y_train, y_test)"
   ]
  },
  {
   "cell_type": "code",
   "execution_count": 26,
   "metadata": {
    "scrolled": false
   },
   "outputs": [
    {
     "name": "stdout",
     "output_type": "stream",
     "text": [
      "Accuracy:  0.9494117009163369\n",
      "Precision Score:  0.3871186440677966\n",
      "Recall Score:  0.9516666666666667\n",
      "F1 Score:  0.5503614457831326\n",
      "Confusion Matrix:  [[16939   904]\n",
      " [   29   571]]\n"
     ]
    }
   ],
   "source": [
    "from sklearn.linear_model.logistic import LogisticRegression\n",
    "logreg = LogisticRegression(class_weight={0:1, 1:24}, random_state=42)\n",
    "eval_model(logreg, X_train, X_test, y_train, y_test)"
   ]
  },
  {
   "cell_type": "code",
   "execution_count": 40,
   "metadata": {},
   "outputs": [
    {
     "data": {
      "text/plain": [
       "[(4.275999646610793, 'Activity_Printing'),\n",
       " (4.1741311919884145, 'Borrower_Genders_group'),\n",
       " (4.160797619943647, 'Country Code_UA'),\n",
       " (3.9660962941475293, 'Country Code_LR'),\n",
       " (3.9132803079049174, 'Country Code_US'),\n",
       " (3.190432658859434, 'Country Code_TG'),\n",
       " (2.7873708103623676, 'Activity_Child Care'),\n",
       " (2.7042538290425813, 'Country Code_TZ'),\n",
       " (2.6444715658611924, 'Activity_Vehicle'),\n",
       " (2.5984945471287, 'Country Code_QS'),\n",
       " (2.4197259116101897, 'Country Code_TJ'),\n",
       " (2.298495360555386, 'Country Code_CL'),\n",
       " (1.9182296331812143, 'Country Code_DO'),\n",
       " (1.9032132898069785, 'Country Code_AF'),\n",
       " (1.794909450626502, 'Activity_Plastics Sales'),\n",
       " (1.7703672152076244, 'Country Code_SV'),\n",
       " (1.7300826703714247, 'Country Code_GH'),\n",
       " (1.6664116042243502, 'Activity_Fishing'),\n",
       " (1.6627820204289252, 'Country Code_EC'),\n",
       " (1.6571607652354112, 'Country Code_CR'),\n",
       " (1.6569979898002996, 'Country Code_PS'),\n",
       " (1.6401649478014118, 'Activity_Farm Supplies'),\n",
       " (1.5254318709969983, 'Country Code_RW'),\n",
       " (1.3269637436463653, 'Country Code_UG'),\n",
       " (1.3097088773141936, 'Activity_Metal Shop'),\n",
       " (1.2456947512162186, 'Country Code_MX'),\n",
       " (1.2099189522837395, 'Activity_Personal Products Sales'),\n",
       " (1.1126237059211832, 'Country Code_PE'),\n",
       " (1.084709984922331, 'Activity_Property'),\n",
       " (0.9488406921649963, 'Country Code_KE'),\n",
       " (0.9404237427547071, 'Activity_Traveling Sales'),\n",
       " (0.9096258246418429, 'Activity_Motorcycle Repair'),\n",
       " (0.909348792913948, 'Activity_Cheese Making'),\n",
       " (0.9042985381213112, 'Activity_Dairy'),\n",
       " (0.8992615499406613, 'Activity_Wedding Expenses'),\n",
       " (0.8825252944460835, 'Country Code_ID'),\n",
       " (0.8661036156690448, 'Activity_Used Shoes'),\n",
       " (0.8580506023665034, 'Country Code_BJ'),\n",
       " (0.8484388420470208, 'Activity_Carpentry'),\n",
       " (0.8252265031865232, 'Activity_Motorcycle Transport'),\n",
       " (0.8225701342462267, 'Activity_Decorations Sales'),\n",
       " (0.7940746306417628, 'Activity_Spare Parts'),\n",
       " (0.7812917655638544, 'Country Code_BO'),\n",
       " (0.6785319498153755, 'Activity_Home Products Sales'),\n",
       " (0.6767626285382905, 'Country Code_IL'),\n",
       " (0.6676556680496717, 'Activity_Wholesale'),\n",
       " (0.660779661086856, 'Activity_Laundry'),\n",
       " (0.6543774658515124, 'Activity_Cosmetics Sales'),\n",
       " (0.6159039553068733, 'Activity_Cloth & Dressmaking Supplies'),\n",
       " (0.5973505490360151, 'Activity_Food Stall'),\n",
       " (0.5896823086201515, 'Sector_Wholesale'),\n",
       " (0.5299104629415282, 'Activity_Timber Sales'),\n",
       " (0.5104652259956136, 'Activity_Weaving'),\n",
       " (0.5070849815626186, 'Activity_Agriculture'),\n",
       " (0.4725808090263388, 'Country Code_GT'),\n",
       " (0.4433858466065643, 'Activity_Movie Tapes & DVDs'),\n",
       " (0.4384113595811332, 'Activity_Vehicle Repairs'),\n",
       " (0.4374676876448912, 'Activity_Crafts'),\n",
       " (0.4371249583390841, 'Activity_Fish Selling'),\n",
       " (0.4204617773821649, 'Sector_Transportation'),\n",
       " (0.40118007503416553, 'Activity_Quarrying'),\n",
       " (0.38023142078074723, 'Country Code_CO'),\n",
       " (0.3329576275979138, 'Activity_Health'),\n",
       " (0.33202042591111613, 'Activity_Jewelry'),\n",
       " (0.31517880833218465, 'Activity_Phone Use Sales'),\n",
       " (0.31438134355391634, 'Activity_Taxi'),\n",
       " (0.3093994370844263, 'Activity_Retail'),\n",
       " (0.2993124255156846, 'Activity_Bicycle Repair'),\n",
       " (0.2946913273916942, 'Activity_Shoe Sales'),\n",
       " (0.2756281785214744, 'Activity_Pharmacy'),\n",
       " (0.2653989057213363, 'Sector_Clothing'),\n",
       " (0.25218353865704124, 'Activity_Auto Repair'),\n",
       " (0.24208780359650311, 'Lender_Term'),\n",
       " (0.2233202564986214, 'Activity_Office Supplies'),\n",
       " (0.2226488931105201, 'Sector_Manufacturing'),\n",
       " (0.21404275827164113, 'Activity_Used Clothing'),\n",
       " (0.2082541741084416, 'Activity_Entertainment'),\n",
       " (0.1794451140055813, 'Activity_Textiles'),\n",
       " (0.17733765729553091, 'Activity_Catering'),\n",
       " (0.1770680849436816, 'Country Code_LB'),\n",
       " (0.1752438336435531, 'Activity_Tailoring'),\n",
       " (0.17316654574011825, 'Activity_General Store'),\n",
       " (0.16858507006275766, 'Sector_Personal Use'),\n",
       " (0.16121488622290406, 'Country Code_AZ'),\n",
       " (0.15207027044627427, 'Activity_Bricks'),\n",
       " (0.12922591548549794, 'Country Code_HN'),\n",
       " (0.126963886332574, 'Activity_Games'),\n",
       " (0.11173145741683298, 'Activity_Arts'),\n",
       " (0.10423504758006896, 'Sector_Housing'),\n",
       " (0.09306812966922275, 'Activity_Medical Clinic'),\n",
       " (0.092451049808176, 'Activity_Hardware'),\n",
       " (0.08952722799866179, 'Activity_Cattle'),\n",
       " (0.0742745889955195, 'Repayment_Interval_monthly'),\n",
       " (0.07347610347537993, 'Activity_Bakery'),\n",
       " (0.06634329279498691, 'Activity_Food Production/Sales'),\n",
       " (0.058729575409993816, 'Activity_Beauty Salon'),\n",
       " (0.055545073647450906, 'Activity_Liquor Store / Off-License'),\n",
       " (0.05393760769277325, 'Activity_Computers'),\n",
       " (0.05204235206692579, 'Activity_Music Discs & Tapes'),\n",
       " (0.04647694272812759, 'Activity_Construction'),\n",
       " (0.02874206713907229, 'Activity_Cobbler'),\n",
       " (0.02051955919997228, 'Country Code_SL'),\n",
       " (0.010381383357015517, 'Activity_Clothing Sales'),\n",
       " (0.0050680833037380175, 'Activity_Poultry'),\n",
       " (-1.761575064815566e-05, 'Activity_Recycled Materials'),\n",
       " (-7.119299838251771e-05, 'Activity_Funeral Expenses'),\n",
       " (-0.0004995611701945547, 'Activity_Balut-Making'),\n",
       " (-0.0008666691216769641, 'Activity_Film'),\n",
       " (-0.0009921202588675415, 'Loan Amount'),\n",
       " (-0.002269776626302324, 'Cluster'),\n",
       " (-0.006048902964947042, 'Activity_Land Rental'),\n",
       " (-0.010962840870883875, 'Activity_Renewable Energy Products'),\n",
       " (-0.011715339352653746, 'Activity_Air Conditioning'),\n",
       " (-0.019109342072919352, 'Activity_Pigs'),\n",
       " (-0.021919226465334427, 'Sector_Entertainment'),\n",
       " (-0.024453969828490976, 'Country Code_CG'),\n",
       " (-0.04216105484854313, 'Activity_Services'),\n",
       " (-0.042581598296156924, 'Country Code_JO'),\n",
       " (-0.046077616156218575, 'Activity_Fuel/Firewood'),\n",
       " (-0.0558239998305616, 'Activity_Furniture Making'),\n",
       " (-0.06881315203303034, 'Activity_Education provider'),\n",
       " (-0.06963551584689101, 'Activity_Well digging'),\n",
       " (-0.07031708203218147, 'Activity_Fruits & Vegetables'),\n",
       " (-0.0771682161473553, 'Activity_Machinery Rental'),\n",
       " (-0.07797335942951877, 'Activity_Goods Distribution'),\n",
       " (-0.08012024019794847, 'Sector_Agriculture'),\n",
       " (-0.08100048690745518, 'Activity_Food'),\n",
       " (-0.08132131807945736, 'Activity_Construction Supplies'),\n",
       " (-0.09065347998012628, 'Activity_Charcoal Sales'),\n",
       " (-0.10055517435630462, 'Activity_Restaurant'),\n",
       " (-0.10062810466518292, 'Activity_Cafe'),\n",
       " (-0.10627182631785789, 'Country Code_MZ'),\n",
       " (-0.12501352557868448, 'Activity_Transportation'),\n",
       " (-0.12616060381029898, 'Activity_Water Distribution'),\n",
       " (-0.13073949082202427, 'Activity_Musical Instruments'),\n",
       " (-0.14638224046472884, 'Activity_Knitting'),\n",
       " (-0.15072267957908728, 'Activity_Livestock'),\n",
       " (-0.15371519404967415, 'Sector_Food'),\n",
       " (-0.15403388860274767, 'Country Code_NI'),\n",
       " (-0.15967409629920187, 'Activity_Machine Shop'),\n",
       " (-0.16011693777282995, 'Activity_Home Appliances'),\n",
       " (-0.16117412819034352, 'Activity_Embroidery'),\n",
       " (-0.16203384508785895, 'Activity_Tourism'),\n",
       " (-0.17055402899145014, 'Activity_Primary/secondary school costs'),\n",
       " (-0.17758841373646958, 'Activity_Dental'),\n",
       " (-0.1981584147305877, 'Activity_Farming'),\n",
       " (-0.20907899333784152, 'Activity_Phone Repair'),\n",
       " (-0.22014911291298067, 'Activity_Soft Drinks'),\n",
       " (-0.23161021216409997, 'Activity_Utilities'),\n",
       " (-0.23987697545236042, 'Activity_Pub'),\n",
       " (-0.24438553945157057, 'Country Code_SN'),\n",
       " (-0.28130387099630105, 'Sector_Services'),\n",
       " (-0.2931866443532172, 'Activity_Sporting Good Sales'),\n",
       " (-0.29573227978000777, 'Activity_Home Energy'),\n",
       " (-0.3041156681756369, 'Activity_Cereals'),\n",
       " (-0.31324475482589237, 'Activity_Secretarial Services'),\n",
       " (-0.337460134827683, 'Activity_Hotel'),\n",
       " (-0.35458493878213304, 'Activity_Waste Management'),\n",
       " (-0.35713728690635227, 'Activity_Musical Performance'),\n",
       " (-0.36409175848890707, 'Sector_Arts'),\n",
       " (-0.38659292008508006, 'Activity_Souvenir Sales'),\n",
       " (-0.4103227592545377, 'Activity_Blacksmith'),\n",
       " (-0.451819735964531, 'Activity_Natural Medicines'),\n",
       " (-0.45355979653865464, 'Activity_Electrician'),\n",
       " (-0.46123912881935525, 'Activity_Manufacturing'),\n",
       " (-0.4616297300752774, 'Country Code_NP'),\n",
       " (-0.46317895409440096, 'Activity_Bicycle Sales'),\n",
       " (-0.46559854537346856, 'Activity_Food Market'),\n",
       " (-0.46916379227089955, 'Activity_Bookstore'),\n",
       " (-0.4726444022631492, 'Activity_Mobile Phones'),\n",
       " (-0.5059783568345196, 'Activity_Higher education costs'),\n",
       " (-0.5122631355034524, 'Country Code_ZA'),\n",
       " (-0.5177869989051024, 'Activity_Grocery Store'),\n",
       " (-0.5298542762571185, 'Activity_Upholstery'),\n",
       " (-0.5345887190021243, 'Activity_Electronics Sales'),\n",
       " (-0.5580395569196339, 'Country Code_IQ'),\n",
       " (-0.583310313892692, 'Country Code_HT'),\n",
       " (-0.5918353773186071, 'Activity_Electronics Repair'),\n",
       " (-0.5941325437796271, 'Activity_Rickshaw'),\n",
       " (-0.6218584766877544, 'Activity_Religious Articles'),\n",
       " (-0.6219292706811488, 'Sector_Retail'),\n",
       " (-0.6291562530004892, 'Activity_Bookbinding'),\n",
       " (-0.6421320117290131, 'Country Code_BI'),\n",
       " (-0.7089762189361819, 'Activity_Barber Shop'),\n",
       " (-0.7305284112663349, 'Activity_Sewing'),\n",
       " (-0.7352064306714782, 'Activity_Animal Sales'),\n",
       " (-0.7453455378589958, 'Sector_Education'),\n",
       " (-0.7924776817496155, 'Activity_Butcher Shop'),\n",
       " (-0.8144937836079407, 'Activity_Recycling'),\n",
       " (-0.8251288515763859, 'Activity_Clothing'),\n",
       " (-0.8532234561944347, 'Sector_Health'),\n",
       " (-0.8622408524793536, 'Activity_Consumer Goods'),\n",
       " (-0.8624050823529948, 'Activity_Flowers'),\n",
       " (-0.8908636932516202, 'Country Code_MN'),\n",
       " (-0.9254692422820306, 'Activity_Personal Medical Expenses'),\n",
       " (-0.9742938037527586, 'Activity_Electrical Goods'),\n",
       " (-0.980474937342133, 'Activity_Personal Housing Expenses'),\n",
       " (-0.9933282845219797, 'Sector_Construction'),\n",
       " (-1.0222415718659599, 'Activity_Photography'),\n",
       " (-1.041356178305575, 'Activity_Party Supplies'),\n",
       " (-1.1640387149531395, 'Activity_Patchwork'),\n",
       " (-1.1661766619985046, 'Repayment_Interval_bullet'),\n",
       " (-1.1896696221141423, 'Country Code_CD'),\n",
       " (-1.243647834079187, 'Activity_Milk Sales'),\n",
       " (-1.2520627639746822, 'Repayment_Interval_irregular'),\n",
       " (-1.2546131666104954, 'Activity_Veterinary Sales'),\n",
       " (-1.4296725025456072, 'Activity_Internet Cafe'),\n",
       " (-1.4461039368165407, 'Activity_Call Center'),\n",
       " (-1.4753619248436514, 'Activity_Paper Sales'),\n",
       " (-1.6366728231651317, 'Country Code_PH'),\n",
       " (-1.7404431989011042, 'Activity_Phone Accessories'),\n",
       " (-1.747915034330971, 'Activity_Perfumes'),\n",
       " (-1.9459682353370933, 'Country Code_CM'),\n",
       " (-2.056986782708506, 'Activity_Personal Purchases'),\n",
       " (-2.3439648369609, 'Distribution_Model_field_partner'),\n",
       " (-2.3617957512741112, 'Country Code_AM'),\n",
       " (-2.403930683531278, 'Country Code_WS'),\n",
       " (-2.7523253223414423, 'Borrower_Genders_male'),\n",
       " (-2.8204480437927315, 'Activity_Cement'),\n",
       " (-3.524912015997315, 'Country Code_LK'),\n",
       " (-3.635397338856725, 'Country Code_PY'),\n",
       " (-3.7539765000374685, 'Country Code_NG'),\n",
       " (-3.7657707066223183, 'Borrower_Genders_female'),\n",
       " (-3.8512911413640896, 'Country Code_KH'),\n",
       " (-4.10209303813416, 'Country Code_KG'),\n",
       " (-4.891880452700491, 'Country Code_ML'),\n",
       " (-6.312755652152886, 'Country Code_VN'),\n",
       " (-6.763092162188412, 'Country Code_PK')]"
      ]
     },
     "execution_count": 40,
     "metadata": {},
     "output_type": "execute_result"
    }
   ],
   "source": [
    "feature_coeficients = sorted(list(zip(logreg.coef_[0], X_train.columns)), reverse=True)\n",
    "feature_coeficients"
   ]
  },
  {
   "cell_type": "code",
   "execution_count": 42,
   "metadata": {},
   "outputs": [
    {
     "name": "stdout",
     "output_type": "stream",
     "text": [
      "Accuracy:  0.9833541180935856\n",
      "Precision Score:  0.7639639639639639\n",
      "Recall Score:  0.7066666666666667\n",
      "F1 Score:  0.7341991341991342\n",
      "Confusion Matrix:  [[17712   131]\n",
      " [  176   424]]\n"
     ]
    }
   ],
   "source": [
    "from sklearn.ensemble import RandomForestClassifier\n",
    "rf = RandomForestClassifier(class_weight={0:1, 1:24},  random_state=42)\n",
    "eval_model(rf, X_train, X_test, y_train, y_test)"
   ]
  },
  {
   "cell_type": "code",
   "execution_count": 49,
   "metadata": {
    "scrolled": true
   },
   "outputs": [
    {
     "name": "stdout",
     "output_type": "stream",
     "text": [
      "Accuracy:  0.9788546255506608\n",
      "Precision Score:  0.785234899328859\n",
      "Recall Score:  0.4854771784232365\n",
      "F1 Score:  0.6\n",
      "Confusion Matrix:  [[14209    64]\n",
      " [  248   234]]\n"
     ]
    }
   ],
   "source": [
    "from sklearn.neighbors import KNeighborsClassifier\n",
    "knn = KNeighborsClassifier(weights='distance')\n",
    "eval_model(knn, X_train, X_test, y_train, y_test)"
   ]
  },
  {
   "cell_type": "markdown",
   "metadata": {},
   "source": []
  }
 ],
 "metadata": {
  "kernelspec": {
   "display_name": "Python 3",
   "language": "python",
   "name": "python3"
  },
  "language_info": {
   "codemirror_mode": {
    "name": "ipython",
    "version": 3
   },
   "file_extension": ".py",
   "mimetype": "text/x-python",
   "name": "python",
   "nbconvert_exporter": "python",
   "pygments_lexer": "ipython3",
   "version": "3.6.4"
  }
 },
 "nbformat": 4,
 "nbformat_minor": 2
}
